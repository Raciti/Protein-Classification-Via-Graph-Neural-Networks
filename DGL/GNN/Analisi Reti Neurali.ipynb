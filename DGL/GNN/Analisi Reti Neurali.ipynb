{
 "cells": [
  {
   "cell_type": "markdown",
   "id": "22c90404",
   "metadata": {},
   "source": [
    "## PROVE\n",
    "\n",
    "\n",
    "Numero di nodi 16\n",
    "\n",
    "batch = 10 epoche 1000 con soglia 400epoche e loss < 0.4 -> ***ACCURATEZZA OTTENUTA*** 0,61\n",
    "\n",
    "batch = 8 epoche 5000  -> ***ACCURATEZZA OTTENUTA*** 0,61 con ultima loss -> 0.7\n",
    "\n",
    "batch = 8 epoche 1000  -> ***ACCURATEZZA OTTENUTA*** 0,59 con ultima loss -> 0.87\n",
    "\n",
    "batch = 8 epoche 1000  -> ***ACCURATEZZA OTTENUTA*** 0,63 con ultima loss -> 1.61\n",
    "\n",
    "\n",
    "\n",
    "\n",
    "\n",
    "Numero di nodi 32\n",
    "\n",
    "batch = 8 epoche 1000 ->  ***ACCURATEZZA OTTENUTA*** 0,62 con ultima loss ->  1.09\n",
    "\n",
    "\n",
    "Numero di nodi 12\n",
    "\n",
    "batch = 8 epoche 1000 ->  ***ACCURATEZZA OTTENUTA*** 0,62 con ultima loss ->   0.75\n",
    "\n",
    "\n",
    "\n",
    "\n",
    "\n",
    "\n",
    "\n",
    "Numero di nodi 12 classificazione di sei classi \n",
    "\n",
    "batch = 12 epoche 1000 -> ***ACCURATEZZA OTTENUTA*** 0,42 con ultima loss ->  0.84\n"
   ]
  },
  {
   "cell_type": "markdown",
   "id": "a2072b51",
   "metadata": {},
   "source": [
    "## Prove con i vari modelli \n",
    "\n",
    "**Dataset Binario**\n",
    "   - Rete con 12 nodi  --> 0.8780487804878049\n",
    "   - Rete con 32 nodi  --> 0.8780487804878049\n",
    "   - Rete con 128 nodi --> 0.8780487804878049\n",
    "   - Rete con 256 nodi --> 0.9024390243902439\n",
    "    \n",
    "<br>\n",
    "    \n",
    "**Dataset 4 Classi**\n",
    "   - Rete con 12 nodi  --> 0.5555555555555556\n",
    "   - Rete con 32 nodi  --> 0.6282051282051282\n",
    "   - Rete con 128 nodi --> 0.5683760683760684\n",
    "   - Rete con 256 nodi --> 0.24358974358974358\n",
    "\n",
    "<br>\n",
    "\n",
    "**Dataset 6 Classi**\n",
    "   - Rete con 12 nodi  --> 0.5327635327635327\n",
    "   - Rete con 32 nodi  --> 0.43874643874643876\n",
    "   - Rete con 128 nodi --> 0.5441595441595442\n",
    "   - Rete con 256 nodi --> 0.5441595441595442\n",
    "\n",
    "<br>\n",
    "\n",
    "**Dataset 8 Classi**\n",
    "   - Rete con 12 nodi  --> 0.36622807017543857\n",
    "   - Rete con 32 nodi  --> 0.44298245614035087\n",
    "   - Rete con 128 nodi --> 0.44298245614035087\n",
    "   - Rete con 256 nodi --> 0.3618421052631579\n",
    "\n"
   ]
  },
  {
   "cell_type": "code",
   "execution_count": null,
   "id": "1c0e294d",
   "metadata": {},
   "outputs": [],
   "source": []
  }
 ],
 "metadata": {
  "kernelspec": {
   "display_name": "Python 3 (ipykernel)",
   "language": "python",
   "name": "python3"
  },
  "language_info": {
   "codemirror_mode": {
    "name": "ipython",
    "version": 3
   },
   "file_extension": ".py",
   "mimetype": "text/x-python",
   "name": "python",
   "nbconvert_exporter": "python",
   "pygments_lexer": "ipython3",
   "version": "3.8.8"
  }
 },
 "nbformat": 4,
 "nbformat_minor": 5
}
