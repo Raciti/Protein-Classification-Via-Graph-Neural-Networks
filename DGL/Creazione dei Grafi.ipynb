{
 "cells": [
  {
   "cell_type": "code",
   "execution_count": 1,
   "id": "e42525ec",
   "metadata": {},
   "outputs": [
    {
     "name": "stderr",
     "output_type": "stream",
     "text": [
      "Using backend: pytorch\n"
     ]
    }
   ],
   "source": [
    "from dgl.data.utils import save_graphs\n",
    "import dgl\n",
    "import torch as th\n",
    "import scipy.sparse as sp\n",
    "import networkx as nx\n",
    "import pickle\n",
    "from numpy import array\n",
    "import pandas as pd\n",
    "\n",
    "#Aprire i File\n",
    "import os\n",
    "#Per la gestione dei file già esistenti\n",
    "from os.path import exists"
   ]
  },
  {
   "cell_type": "code",
   "execution_count": 11,
   "id": "c5a6818d",
   "metadata": {},
   "outputs": [],
   "source": [
    "proteine_path = \"../Dati/proteine.csv\"\n",
    "proteine = pd.read_csv(proteine_path, sep = ',')\n",
    "\n",
    "f = open(\"../Dati/classi.pickle\",\"rb\")\n",
    "classi = pickle.load(f)\n",
    "f.close()\n",
    "\n",
    "f = open(\"../Dati/aminoacidi.pickle\",\"rb\")\n",
    "amino = pickle.load(f)\n",
    "f.close()\n",
    "\n",
    "\n",
    "for filename in os.listdir(\"../../R/Rdati/Matrici Adiacenza/\"):\n",
    "    with open(os.path.join(\"../../R/Rdati/Matrici Adiacenza/\", filename), 'r', encoding='windows-1252') as f:\n",
    "        if (filename != \".DS_Store\"):\n",
    "            id_p = filename[0:4]\n",
    "            #print(id_p)\n",
    "\n",
    "            #Id della proteina che si sta analizzando\n",
    "            #print(id_p)\n",
    "\n",
    "            if not exists(\"../Dati/Grafi2/{}.npz\".format(id_p)): \n",
    "                matrix = \"../../R/Rdati/Matrici Adiacenza/{}.csv\".format(id_p)\n",
    "                #print(matrix)\n",
    "\n",
    "                #Matrice adiacenza singola matrice inserita in un dataframe\n",
    "                proteina = pd.read_csv(matrix, sep = ';')\n",
    "                #Nomi dei nodi nonché numero\n",
    "                Nodes = list(proteina.columns[1:])\n",
    "                for vertex in range(0,len(Nodes)):\n",
    "                    Nodes[vertex] = Nodes[vertex][1:]\n",
    "                    \n",
    "                #Lista degli Amino acidi\n",
    "                    #Amino = list(proteina.iloc[0][1:])\n",
    "                Amino = amino.transform(list(proteina.iloc[0][1:]))\n",
    "\n",
    "                \n",
    "                proteina.drop(proteina.columns[[0]], axis = 1, inplace = True)\n",
    "                j = proteina.iloc[0]\n",
    "                proteina.drop([0], axis = 0, inplace = True)\n",
    "                \n",
    "                \n",
    "                    #proteina.drop(proteina.columns[[0]], axis = 1, inplace = True)\n",
    "                    #proteina.drop([0], axis = 0, inplace = True)\n",
    "                #Classe della proteina\n",
    "                classe = proteine[proteine['Id'] == id_p][\"Classe\"].iloc[0][0]\n",
    "        \n",
    "                \n",
    "                #Creazione Grafo\n",
    "                G = nx.Graph()\n",
    "                G.add_nodes_from(Nodes)\n",
    "                \n",
    "                #Aggiunta archi\n",
    "                rows, cols = proteina.shape\n",
    "                Vprimo = \"Vx\"\n",
    "                Vsecondo =\"Vx\"\n",
    "                for i in range(rows):\n",
    "                    row = proteina.iloc[i]\n",
    "                    j = 0\n",
    "                    for edge in row:\n",
    "                        if edge == '1':\n",
    "                            vPrimo = Vprimo[:1] + str(i+1)\n",
    "                            vSecondo = Vsecondo[:1] + str(j+1)\n",
    "                            #print(\"Aggiunta arco tra il nodo \", vPrimo[1:],\"e il nodo \", vSecondo[1:])\n",
    "                            G.add_edge(vPrimo[1:], vSecondo[1:])\n",
    "                        j += 1\n",
    "                \n",
    "                #Conbersione Grafo in formato DGL\n",
    "                new_g = dgl.from_networkx(G)\n",
    "                \n",
    "                \n",
    "                #Salvataggio Grafo\n",
    "                save_graphs(\"../Dati/Grafi2/{}.bin\".format(id_p), new_g)\n",
    "                break\n",
    "        "
   ]
  },
  {
   "cell_type": "code",
   "execution_count": 10,
   "id": "6775faeb",
   "metadata": {},
   "outputs": [
    {
     "data": {
      "text/plain": [
       "'4vhb'"
      ]
     },
     "execution_count": 10,
     "metadata": {},
     "output_type": "execute_result"
    }
   ],
   "source": [
    "id_p"
   ]
  },
  {
   "cell_type": "code",
   "execution_count": 9,
   "id": "07ca05a8",
   "metadata": {},
   "outputs": [
    {
     "data": {
      "text/plain": [
       "Graph(num_nodes=138, num_edges=4174,\n",
       "      ndata_schemes={}\n",
       "      edata_schemes={})"
      ]
     },
     "execution_count": 9,
     "metadata": {},
     "output_type": "execute_result"
    }
   ],
   "source": [
    "new_g"
   ]
  },
  {
   "cell_type": "code",
   "execution_count": null,
   "id": "d1d88d20",
   "metadata": {},
   "outputs": [],
   "source": []
  }
 ],
 "metadata": {
  "kernelspec": {
   "display_name": "Python 3",
   "language": "python",
   "name": "python3"
  },
  "language_info": {
   "codemirror_mode": {
    "name": "ipython",
    "version": 3
   },
   "file_extension": ".py",
   "mimetype": "text/x-python",
   "name": "python",
   "nbconvert_exporter": "python",
   "pygments_lexer": "ipython3",
   "version": "3.8.8"
  }
 },
 "nbformat": 4,
 "nbformat_minor": 5
}
