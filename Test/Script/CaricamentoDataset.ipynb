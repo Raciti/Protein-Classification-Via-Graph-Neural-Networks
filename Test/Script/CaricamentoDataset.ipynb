{
 "cells": [
  {
   "cell_type": "code",
   "execution_count": 29,
   "id": "ee552733",
   "metadata": {},
   "outputs": [],
   "source": [
    "#DataFrame\n",
    "import pandas as pd\n",
    "#Tensori\n",
    "import numpy as np\n",
    "from numpy import array\n",
    "#Matrice Sparsa\n",
    "from scipy.sparse import csr_matrix\n",
    "#GNN\n",
    "import spektral\n",
    "#Aprire i File\n",
    "import os\n",
    "#Per la gestione dei file già esistenti\n",
    "from os.path import exists"
   ]
  },
  {
   "cell_type": "markdown",
   "id": "7de48921",
   "metadata": {},
   "source": [
    "# Caricamento del dataset\n",
    "Verranno caricati caricati ei grafi pari a n_grafi."
   ]
  },
  {
   "cell_type": "code",
   "execution_count": 30,
   "id": "dafaf299",
   "metadata": {},
   "outputs": [],
   "source": [
    "n_grafi = 10"
   ]
  },
  {
   "cell_type": "code",
   "execution_count": 31,
   "id": "1e61fc47",
   "metadata": {},
   "outputs": [
    {
     "name": "stdout",
     "output_type": "stream",
     "text": [
      "1 2qrw\n",
      "2 1s56\n",
      "3 3vhb\n",
      "4 1s69\n",
      "5 2bkm\n",
      "6 1idr\n",
      "7 1vhb\n",
      "8 3lb2\n",
      "9 1ux9\n",
      "10 2gln\n"
     ]
    }
   ],
   "source": [
    "proteine_path = \"../Dati/proteine.csv\"\n",
    "proteine = pd.read_csv(proteine_path, sep = ',')\n",
    "Dataset = []\n",
    "\n",
    "i = 1\n",
    "for filename in os.listdir(\"../Dati/Grafi/\"):\n",
    "    with open(os.path.join(\"../Dati/Grafi/\", filename), 'r', encoding='windows-1252') as f:\n",
    "        if (filename != \".DS_Store\"):\n",
    "            if i <= n_grafi:\n",
    "                id_p = filename[0:4]\n",
    "                data = np.load(\"../Dati/Grafi/{}.npz\".format(id_p), allow_pickle=True)\n",
    "                G = spektral.data.graph.Graph(x= data['x'], a= csr_matrix(data['a'].all()), e = None, y= data['y'])\n",
    "                Dataset.append((G, id_p))\n",
    "                print(i, id_p)\n",
    "                i += 1"
   ]
  },
  {
   "cell_type": "code",
   "execution_count": 34,
   "id": "bd061888",
   "metadata": {},
   "outputs": [
    {
     "data": {
      "text/plain": [
       "[(Graph(n_nodes=126, n_node_features=1, n_edge_features=None, n_labels=1),\n",
       "  '2qrw'),\n",
       " (Graph(n_nodes=128, n_node_features=1, n_edge_features=None, n_labels=1),\n",
       "  '1s56'),\n",
       " (Graph(n_nodes=135, n_node_features=1, n_edge_features=None, n_labels=1),\n",
       "  '3vhb'),\n",
       " (Graph(n_nodes=123, n_node_features=1, n_edge_features=None, n_labels=1),\n",
       "  '1s69'),\n",
       " (Graph(n_nodes=128, n_node_features=1, n_edge_features=None, n_labels=1),\n",
       "  '2bkm'),\n",
       " (Graph(n_nodes=127, n_node_features=1, n_edge_features=None, n_labels=1),\n",
       "  '1idr'),\n",
       " (Graph(n_nodes=135, n_node_features=1, n_edge_features=None, n_labels=1),\n",
       "  '1vhb'),\n",
       " (Graph(n_nodes=137, n_node_features=1, n_edge_features=None, n_labels=1),\n",
       "  '3lb2'),\n",
       " (Graph(n_nodes=154, n_node_features=1, n_edge_features=None, n_labels=1),\n",
       "  '1ux9'),\n",
       " (Graph(n_nodes=128, n_node_features=1, n_edge_features=None, n_labels=1),\n",
       "  '2gln')]"
      ]
     },
     "execution_count": 34,
     "metadata": {},
     "output_type": "execute_result"
    }
   ],
   "source": [
    "Dataset"
   ]
  },
  {
   "cell_type": "code",
   "execution_count": null,
   "id": "8baba3a5",
   "metadata": {},
   "outputs": [],
   "source": []
  }
 ],
 "metadata": {
  "kernelspec": {
   "display_name": "Python 3",
   "language": "python",
   "name": "python3"
  },
  "language_info": {
   "codemirror_mode": {
    "name": "ipython",
    "version": 3
   },
   "file_extension": ".py",
   "mimetype": "text/x-python",
   "name": "python",
   "nbconvert_exporter": "python",
   "pygments_lexer": "ipython3",
   "version": "3.8.8"
  }
 },
 "nbformat": 4,
 "nbformat_minor": 5
}
