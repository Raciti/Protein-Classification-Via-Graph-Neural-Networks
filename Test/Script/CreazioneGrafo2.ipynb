{
 "cells": [
  {
   "cell_type": "markdown",
   "id": "09f1d2b2",
   "metadata": {},
   "source": [
    "Creazione dataframe con le colonne nominate in base agli aminoacidi"
   ]
  },
  {
   "cell_type": "code",
   "execution_count": null,
   "id": "fdc7a9c6",
   "metadata": {},
   "outputs": [],
   "source": [
    "matrix = \"../../R/Rdati/Matrici Adiacenza/1ux8.csv\""
   ]
  },
  {
   "cell_type": "raw",
   "id": "1f484507",
   "metadata": {},
   "source": [
    "import csv\n",
    "import pandas as pd\n",
    "with open(matrix, newline=\"\", encoding=\"ISO-8859-1\") as filecsv:\n",
    "    lettore = csv.reader(filecsv, delimiter = \";\")\n",
    "    Nodes = next(lettore)\n",
    "    Nodes.pop(0)\n",
    "    print(Nodes)\n",
    "    Amino = next(lettore)\n",
    "    Amino.pop(0)\n",
    "    print(Amino)\n",
    "    \n",
    "    dataFrame = pd.DataFrame(columns = Nodes)"
   ]
  },
  {
   "cell_type": "raw",
   "id": "231cc615",
   "metadata": {},
   "source": [
    "dataFrame"
   ]
  },
  {
   "cell_type": "markdown",
   "id": "4361f793",
   "metadata": {},
   "source": [
    "### Popolazione Dataframe"
   ]
  },
  {
   "cell_type": "raw",
   "id": "ee27de0e",
   "metadata": {},
   "source": [
    "import csv\n",
    "with open(matrix, 'r') as file:    \n",
    "    reader = csv.reader(file)\n",
    "    i = 0\n",
    "    for row in reader:\n",
    "        print(i)\n",
    "        if i > 1:\n",
    "            output = row[0].split(';')\n",
    "            output.pop(0)\n",
    "            dataFrame.loc[i] = output    \n",
    "        i += 1"
   ]
  },
  {
   "cell_type": "raw",
   "id": "7bd28e94",
   "metadata": {},
   "source": [
    "dataFrame"
   ]
  },
  {
   "cell_type": "markdown",
   "id": "dfe8fd2b",
   "metadata": {},
   "source": [
    "# Esportazione Csv Pandas\n"
   ]
  },
  {
   "cell_type": "code",
   "execution_count": null,
   "id": "76c3e7ae",
   "metadata": {},
   "outputs": [],
   "source": [
    "import pandas as pd\n",
    "dataFrame = pd.read_csv(matrix, sep = ';')\n",
    "dataFrame"
   ]
  },
  {
   "cell_type": "code",
   "execution_count": null,
   "id": "d7190f41",
   "metadata": {},
   "outputs": [],
   "source": [
    "Nodes = list(dataFrame.columns[1:])\n",
    "print(Nodes)\n",
    "Amino = list(dataFrame.iloc[0][1:])\n",
    "print(Amino)"
   ]
  },
  {
   "cell_type": "code",
   "execution_count": null,
   "id": "52bdadef",
   "metadata": {},
   "outputs": [],
   "source": [
    "print(len(Nodes), len(Amino))"
   ]
  },
  {
   "cell_type": "code",
   "execution_count": null,
   "id": "6cba99bf",
   "metadata": {},
   "outputs": [],
   "source": [
    "dataFrame.drop(dataFrame.columns[[0]], axis = 1, inplace = True)\n",
    "Amino = dataFrame.iloc[0]\n",
    "dataFrame.drop([0], axis = 0, inplace = True)"
   ]
  },
  {
   "cell_type": "code",
   "execution_count": null,
   "id": "7da92bf7",
   "metadata": {},
   "outputs": [],
   "source": [
    "dataFrame"
   ]
  },
  {
   "cell_type": "markdown",
   "id": "c4e70cbe",
   "metadata": {},
   "source": [
    "# Creazione del grafo"
   ]
  },
  {
   "cell_type": "code",
   "execution_count": null,
   "id": "e63c71c8",
   "metadata": {},
   "outputs": [],
   "source": [
    "import networkx as nx\n",
    "G = nx.Graph()"
   ]
  },
  {
   "cell_type": "markdown",
   "id": "f4e030d6",
   "metadata": {},
   "source": [
    "## Inserimento Nodi nel Grafo"
   ]
  },
  {
   "cell_type": "code",
   "execution_count": null,
   "id": "0b157d03",
   "metadata": {},
   "outputs": [],
   "source": [
    "#import numpy as np\n",
    "#number = np.arange(1, len(Nodes))\n",
    "#number = []\n",
    "#for i in range(1,len(Nodes)+1):\n",
    "#    number.append(\"V\" + str(i))\n",
    "#print(number)"
   ]
  },
  {
   "cell_type": "code",
   "execution_count": null,
   "id": "1789718d",
   "metadata": {},
   "outputs": [],
   "source": [
    "l"
   ]
  },
  {
   "cell_type": "markdown",
   "id": "e782be9a",
   "metadata": {},
   "source": [
    "### Visualizzazione nodi del grafo"
   ]
  },
  {
   "cell_type": "code",
   "execution_count": null,
   "id": "31525159",
   "metadata": {},
   "outputs": [],
   "source": [
    "list(G.nodes)"
   ]
  },
  {
   "cell_type": "markdown",
   "id": "9d3ca2e5",
   "metadata": {},
   "source": [
    "## Aggiunta archi"
   ]
  },
  {
   "cell_type": "code",
   "execution_count": null,
   "id": "8aac407b",
   "metadata": {},
   "outputs": [],
   "source": [
    "rows, cols = dataFrame.shape\n",
    "Vprimo = \"Vx\"\n",
    "Vsecondo =\"Vx\"\n",
    "for i in range(rows):\n",
    "    row = dataFrame.iloc[i]\n",
    "    j = 0\n",
    "    for edge in row:\n",
    "        if edge == '1':\n",
    "            vPrimo = Vprimo[:1] + str(i+1)\n",
    "            vSecondo = Vsecondo[:1] + str(j+1)\n",
    "            #print(\"Aggiunta arco tra il nodo \", vPrimo,\"e il nodo \", vSecondo)\n",
    "            G.add_edge(vPrimo, vSecondo)\n",
    "        j += 1"
   ]
  },
  {
   "cell_type": "markdown",
   "id": "8acf41ea",
   "metadata": {},
   "source": [
    "### Visualizzazione Archi grafo"
   ]
  },
  {
   "cell_type": "code",
   "execution_count": null,
   "id": "070b4adc",
   "metadata": {},
   "outputs": [],
   "source": [
    "G.edges"
   ]
  },
  {
   "cell_type": "markdown",
   "id": "b1515773",
   "metadata": {},
   "source": [
    "### Visualizzazione Grafo"
   ]
  },
  {
   "cell_type": "markdown",
   "id": "7cf82170",
   "metadata": {},
   "source": [
    "Bisogna installare ***decorator==5.0.9***. \n",
    "\n",
    "Lo si può fare tramite la chiamata: ***pip install decorator==5.0.9***."
   ]
  },
  {
   "cell_type": "raw",
   "id": "2adcdc48",
   "metadata": {},
   "source": [
    "import matplotlib.pyplot as plt\n",
    "import networkx as nx\n",
    "\n",
    "\n",
    "plt.figure(3,figsize=(30,30)) \n",
    "nx.draw(G, with_labels=True, font_weight='bold',node_size=3000,font_size=20)\n",
    "plt.show()"
   ]
  },
  {
   "cell_type": "markdown",
   "id": "7de5184c",
   "metadata": {},
   "source": [
    "# Conversione grafi nel formato per la GNN"
   ]
  },
  {
   "cell_type": "code",
   "execution_count": null,
   "id": "c507e21e",
   "metadata": {},
   "outputs": [],
   "source": [
    "import dgl\n",
    "import torch as th\n",
    "import scipy.sparse as sp"
   ]
  },
  {
   "cell_type": "code",
   "execution_count": null,
   "id": "dde1f772",
   "metadata": {},
   "outputs": [],
   "source": [
    "new_g = dgl.from_networkx(G)"
   ]
  },
  {
   "cell_type": "code",
   "execution_count": null,
   "id": "585107e9",
   "metadata": {},
   "outputs": [],
   "source": [
    "print(new_g)"
   ]
  },
  {
   "cell_type": "markdown",
   "id": "8327bd70",
   "metadata": {},
   "source": [
    "## Assegnazione etichette nodi"
   ]
  },
  {
   "cell_type": "code",
   "execution_count": null,
   "id": "1e417b99",
   "metadata": {},
   "outputs": [],
   "source": [
    "th.ones(new_g.num_nodes(),Amino[0]) "
   ]
  },
  {
   "cell_type": "code",
   "execution_count": null,
   "id": "e9799948",
   "metadata": {},
   "outputs": [],
   "source": [
    "new_g.ndata['x'] = th.ones(new_g.num_nodes(), 3) \n",
    "#g.ndata['Amino'] = th.ones(new_g.num_nodes(),7) "
   ]
  },
  {
   "cell_type": "code",
   "execution_count": null,
   "id": "720377f3",
   "metadata": {},
   "outputs": [],
   "source": [
    "import numpy as np\n",
    "number = np.arange(1, len(Nodes)+1)\n",
    "weights = th.tensor(number)  # weight of each edge\n",
    "new_g.ndata['w'] = weights  # give it a name 'w'\n",
    "new_g"
   ]
  },
  {
   "cell_type": "markdown",
   "id": "894d847e",
   "metadata": {},
   "source": [
    "## Salvataggio Grafo"
   ]
  },
  {
   "cell_type": "code",
   "execution_count": null,
   "id": "1ee211b9",
   "metadata": {},
   "outputs": [],
   "source": [
    "from dgl.data.utils import save_graphs\n",
    "save_graphs(\"./salvataggioGrafoprova.bin\", new_g)"
   ]
  },
  {
   "cell_type": "markdown",
   "id": "5a739c7e",
   "metadata": {},
   "source": [
    "## Salvataggio più grafi contemporaneamente"
   ]
  },
  {
   "cell_type": "code",
   "execution_count": null,
   "id": "cd2357f8",
   "metadata": {},
   "outputs": [],
   "source": [
    "graphs = [new_g, new_g]\n",
    "graphs.append(new_g)\n",
    "classes = [0,1,2]\n",
    "graph_labels = {\"Classes\": th.tensor(classes)}\n",
    "save_graphs(\"../salvataggioGrafoprova.bin\", graphs, graph_labels)"
   ]
  },
  {
   "cell_type": "markdown",
   "id": "38d0dd71",
   "metadata": {},
   "source": [
    "## Caricamento Grafo"
   ]
  },
  {
   "cell_type": "code",
   "execution_count": null,
   "id": "a740278c",
   "metadata": {},
   "outputs": [],
   "source": [
    "from dgl.data.utils import load_graphs\n",
    "glist, label_dict = load_graphs(\"../salvataggioGrafoprova.bin\") # glist will be [g1]\n",
    "print(glist)"
   ]
  },
  {
   "cell_type": "code",
   "execution_count": null,
   "id": "cfee044b",
   "metadata": {},
   "outputs": [],
   "source": [
    "g = glist[0]\n",
    "l = label_dict\n",
    "print(g)\n",
    "print(l)\n",
    "print(l.values())"
   ]
  },
  {
   "cell_type": "code",
   "execution_count": null,
   "id": "62fc7a43",
   "metadata": {},
   "outputs": [],
   "source": []
  },
  {
   "cell_type": "code",
   "execution_count": null,
   "id": "d8398cad",
   "metadata": {},
   "outputs": [],
   "source": []
  },
  {
   "cell_type": "markdown",
   "id": "d5a4368e",
   "metadata": {},
   "source": []
  },
  {
   "cell_type": "code",
   "execution_count": null,
   "id": "d1614653",
   "metadata": {},
   "outputs": [],
   "source": []
  },
  {
   "cell_type": "code",
   "execution_count": null,
   "id": "09f8780e",
   "metadata": {},
   "outputs": [],
   "source": []
  },
  {
   "cell_type": "code",
   "execution_count": null,
   "id": "566b72db",
   "metadata": {},
   "outputs": [],
   "source": []
  }
 ],
 "metadata": {
  "kernelspec": {
   "display_name": "Python 3",
   "language": "python",
   "name": "python3"
  },
  "language_info": {
   "codemirror_mode": {
    "name": "ipython",
    "version": 3
   },
   "file_extension": ".py",
   "mimetype": "text/x-python",
   "name": "python",
   "nbconvert_exporter": "python",
   "pygments_lexer": "ipython3",
   "version": "3.8.8"
  }
 },
 "nbformat": 4,
 "nbformat_minor": 5
}
