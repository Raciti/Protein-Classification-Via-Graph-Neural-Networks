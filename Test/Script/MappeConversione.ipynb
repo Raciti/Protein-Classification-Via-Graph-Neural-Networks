{
 "cells": [
  {
   "cell_type": "code",
   "execution_count": 1,
   "id": "b724b5e8",
   "metadata": {},
   "outputs": [],
   "source": [
    "#DataFrame\n",
    "import pandas as pd\n",
    "\n",
    "#Rimozione duplicati lista\n",
    "from collections import OrderedDict\n",
    "\n",
    "#Aprire i File\n",
    "import os\n",
    "#Per la gestione dei file già esistenti\n",
    "from os.path import exists\n",
    "\n",
    "#Salvataggio dizinario\n",
    "import pickle \n",
    "\n",
    "from sklearn import preprocessing"
   ]
  },
  {
   "cell_type": "code",
   "execution_count": 2,
   "id": "715662e4",
   "metadata": {},
   "outputs": [],
   "source": [
    "proteine_path = \"../Dati/proteine.csv\"\n",
    "proteine = pd.read_csv(proteine_path, sep = ',')\n",
    "\n",
    "Amino = []\n",
    "\n",
    "for filename in os.listdir(\"../../R/Rdati/Matrici Adiacenza/\"):\n",
    "    with open(os.path.join(\"../../R/Rdati/Matrici Adiacenza/\", filename), 'r', encoding='windows-1252') as f:\n",
    "        if (filename != \".DS_Store\"):\n",
    "            id_p = filename[0:4]\n",
    "            #print(id_p)\n",
    "            matrix = \"../../R/Rdati/Matrici Adiacenza/{}.csv\".format(id_p)            \n",
    "            #Matrice adiacenza singola matrice inserita in un dataframe    \n",
    "            proteina = pd.read_csv(matrix, sep = ';')\n",
    "            Amino.extend(list(proteina.iloc[0][1:]))\n",
    "            #print(Amino)"
   ]
  },
  {
   "cell_type": "code",
   "execution_count": 3,
   "id": "36b80ac3",
   "metadata": {},
   "outputs": [
    {
     "name": "stdout",
     "output_type": "stream",
     "text": [
      "6535\n"
     ]
    }
   ],
   "source": [
    "print(len(Amino))\n",
    "Amino_TOT = list(OrderedDict.fromkeys(Amino))"
   ]
  },
  {
   "cell_type": "code",
   "execution_count": 4,
   "id": "717bcc20",
   "metadata": {},
   "outputs": [
    {
     "name": "stdout",
     "output_type": "stream",
     "text": [
      "20\n",
      "['MET', 'LEU', 'ASP', 'GLN', 'THR', 'ILE', 'ASN', 'LYS', 'ALA', 'VAL', 'PRO', 'GLU', 'HIS', 'GLY', 'PHE', 'TYR', 'ARG', 'CYS', 'TRP', 'SER']\n"
     ]
    }
   ],
   "source": [
    "print(len(Amino_TOT))\n",
    "print(Amino_TOT)"
   ]
  },
  {
   "cell_type": "code",
   "execution_count": 5,
   "id": "cc9d0494",
   "metadata": {},
   "outputs": [],
   "source": [
    "classes = ['a', 'b', 'c', 'd', 'e', 'f', 'g', 'h', 'i', 'j', 'k', 'l']"
   ]
  },
  {
   "cell_type": "raw",
   "id": "5678ed98",
   "metadata": {},
   "source": [
    "if not exists(\"../Dati/aminoacidi.pickle\"):\n",
    "    aminoAcidi = {}\n",
    "    i = 0\n",
    "    for name in Amino_TOT:\n",
    "        aminoAcidi[name] = i\n",
    "        i+= 1\n",
    "    f = open(\"../Dati/aminoacidi.pickle\",\"wb\")\n",
    "    pickle.dump(aminoAcidi, f)\n",
    "    f.close()"
   ]
  },
  {
   "cell_type": "raw",
   "id": "94277f81",
   "metadata": {},
   "source": [
    "if not exists(\"../Dati/classi.pickle\"):\n",
    "    classi = {}\n",
    "    i = 0\n",
    "    for classe in classes:\n",
    "        classi[classe] = i\n",
    "        i += 1\n",
    "    f = open(\"../Dati/classi.pickle\",\"wb\")\n",
    "    pickle.dump(classi, f)\n",
    "    f.close()"
   ]
  },
  {
   "cell_type": "code",
   "execution_count": 7,
   "id": "311564fa",
   "metadata": {},
   "outputs": [],
   "source": [
    "if not exists(\"../Dati/aminoacidi.pickle\"):\n",
    "    aminoAcidi = preprocessing.LabelEncoder()\n",
    "    aminoAcidi.fit(Amino_TOT)\n",
    "    f = open(\"../Dati/aminoacidi.pickle\",\"wb\")\n",
    "    pickle.dump(aminoAcidi, f)\n",
    "    f.close()"
   ]
  },
  {
   "cell_type": "code",
   "execution_count": 16,
   "id": "c77a5f97",
   "metadata": {},
   "outputs": [],
   "source": [
    "if not exists(\"../Dati/classi.pickle\"):\n",
    "    classi = preprocessing.LabelEncoder()\n",
    "    aminoAcidi.fit(classes)\n",
    "    f = open(\"../Dati/classi.pickle\",\"wb\")\n",
    "    pickle.dump(aminoAcidi, f)\n",
    "    f.close()"
   ]
  },
  {
   "cell_type": "code",
   "execution_count": 17,
   "id": "869e4dd3",
   "metadata": {},
   "outputs": [],
   "source": [
    "f = open(\"../Dati/classi.pickle\",\"rb\")\n",
    "classi_read = pickle.load(f)\n",
    "f.close()"
   ]
  },
  {
   "cell_type": "code",
   "execution_count": 18,
   "id": "dea9a009",
   "metadata": {},
   "outputs": [],
   "source": [
    "f1 = open(\"../Dati/aminoacidi.pickle\",\"rb\")\n",
    "aminoAcidi_read = pickle.load(f1)\n",
    "f.close()"
   ]
  },
  {
   "cell_type": "code",
   "execution_count": 19,
   "id": "b2449974",
   "metadata": {},
   "outputs": [
    {
     "name": "stdout",
     "output_type": "stream",
     "text": [
      "['ALA' 'ARG' 'ASN' 'ASP' 'CYS' 'GLN' 'GLU' 'GLY' 'HIS' 'ILE' 'LEU' 'LYS'\n",
      " 'MET' 'PHE' 'PRO' 'SER' 'THR' 'TRP' 'TYR' 'VAL']\n",
      "['a' 'b' 'c' 'd' 'e' 'f' 'g' 'h' 'i' 'j' 'k' 'l']\n"
     ]
    }
   ],
   "source": [
    "print(aminoAcidi_read.classes_)\n",
    "print(classi_read.classes_)"
   ]
  },
  {
   "cell_type": "code",
   "execution_count": 21,
   "id": "e104aab0",
   "metadata": {},
   "outputs": [
    {
     "data": {
      "text/plain": [
       "array(['ALA', 'ARG', 'ASN', 'ASP', 'CYS', 'GLN', 'GLU', 'GLY', 'HIS',\n",
       "       'ILE', 'LEU', 'LYS', 'MET', 'PHE', 'PRO', 'SER', 'THR', 'TRP',\n",
       "       'TYR', 'VAL'], dtype='<U3')"
      ]
     },
     "execution_count": 21,
     "metadata": {},
     "output_type": "execute_result"
    }
   ],
   "source": [
    "aminoAcidi_read.classes_"
   ]
  },
  {
   "cell_type": "code",
   "execution_count": 26,
   "id": "83178b21",
   "metadata": {},
   "outputs": [
    {
     "data": {
      "text/plain": [
       "array([ 0,  1,  2,  3,  4,  5,  6,  7,  8,  9, 10, 11])"
      ]
     },
     "execution_count": 26,
     "metadata": {},
     "output_type": "execute_result"
    }
   ],
   "source": [
    "aminoAcidi_read.transform(Amino)\n",
    "classi_read.transform(classes)"
   ]
  },
  {
   "cell_type": "code",
   "execution_count": null,
   "id": "b6074474",
   "metadata": {},
   "outputs": [],
   "source": []
  }
 ],
 "metadata": {
  "kernelspec": {
   "display_name": "Python 3",
   "language": "python",
   "name": "python3"
  },
  "language_info": {
   "codemirror_mode": {
    "name": "ipython",
    "version": 3
   },
   "file_extension": ".py",
   "mimetype": "text/x-python",
   "name": "python",
   "nbconvert_exporter": "python",
   "pygments_lexer": "ipython3",
   "version": "3.8.8"
  }
 },
 "nbformat": 4,
 "nbformat_minor": 5
}
