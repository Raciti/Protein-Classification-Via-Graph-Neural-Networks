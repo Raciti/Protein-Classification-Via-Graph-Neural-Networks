{
 "cells": [
  {
   "cell_type": "code",
   "execution_count": 1,
   "id": "4cddc2e0",
   "metadata": {},
   "outputs": [
    {
     "name": "stderr",
     "output_type": "stream",
     "text": [
      "Using backend: pytorch\n"
     ]
    }
   ],
   "source": [
    "import numpy as np\n",
    "from numpy import array\n",
    "from tensorflow.keras.models import Model\n",
    "\n",
    "from spektral.data import Dataset,Graph\n",
    "from spektral.transforms.normalize_adj import NormalizeAdj\n",
    "\n",
    "#DataFrame\n",
    "import pandas as pd\n",
    "\n",
    "from scipy.sparse import csr_matrix\n",
    "#Aprire i File\n",
    "import os\n",
    "#Per la gestione dei file già esistenti\n",
    "from os.path import exists\n",
    "\n",
    "from tensorflow.keras.models import Model\n",
    "from tensorflow.keras.layers import Dense, Dropout\n",
    "from spektral.layers import GCNConv, GlobalSumPool\n",
    "\n",
    "import tensorflow as tf\n",
    "from spektral.models import GeneralGNN\n",
    "\n",
    "from spektral.data import DisjointLoader\n",
    "\n",
    "from tensorflow.keras.optimizers import Adam\n",
    "\n",
    "import numpy as np\n",
    "import tensorflow as tf\n",
    "from ogb.graphproppred import GraphPropPredDataset, Evaluator\n",
    "from tensorflow.keras.layers import Input, Dense\n",
    "from tensorflow.keras.losses import BinaryCrossentropy\n",
    "from tensorflow.keras.models import Model\n",
    "from tensorflow.keras.optimizers import Adam\n",
    "\n",
    "from spektral.data import DisjointLoader\n",
    "from spektral.datasets import OGB\n",
    "from spektral.layers import ECCConv, GlobalSumPool"
   ]
  },
  {
   "cell_type": "code",
   "execution_count": 2,
   "id": "f273030a",
   "metadata": {},
   "outputs": [],
   "source": [
    "class MyDataset(Dataset):\n",
    "    \n",
    "    def __init__(self, n_samples, **kwargs):\n",
    "        self.n_samples = n_samples\n",
    "        super().__init__(**kwargs)\n",
    "\n",
    "    def read(self):\n",
    "        \n",
    "        def make_graph():\n",
    "           \n",
    "            proteine_path = \"../Dati/proteine.csv\"\n",
    "            proteine = pd.read_csv(proteine_path, sep = ',')\n",
    "            for filename in os.listdir(\"../Dati/Grafi/\"):  \n",
    "                with open(os.path.join(\"../Dati/Grafi/\", filename), 'r', encoding='windows-1252') as f:\n",
    "                    id_p = filename[0:4]\n",
    "                    if (filename != \".DS_Store\") and (id_p not in id_p_e):\n",
    "                        id_p_e.append(id_p)\n",
    "                        data = np.load(\"../Dati/Grafi/{}.npz\".format(id_p), allow_pickle=True)\n",
    "                        \n",
    "                        #print(id_p, id_p_e)\n",
    "                        \n",
    "                        return Graph(x= data['x'], a= csr_matrix(data['a'].all()), e = None, y= data['y'])\n",
    "\n",
    "        # We must return a list of Graph objects\n",
    "        return [make_graph() for _ in range(self.n_samples)]"
   ]
  },
  {
   "cell_type": "code",
   "execution_count": null,
   "id": "81c97dbd",
   "metadata": {},
   "outputs": [],
   "source": []
  },
  {
   "cell_type": "code",
   "execution_count": 3,
   "id": "46267a39",
   "metadata": {},
   "outputs": [],
   "source": [
    "# Creazione GNN"
   ]
  },
  {
   "cell_type": "code",
   "execution_count": 4,
   "id": "1330bdec",
   "metadata": {},
   "outputs": [
    {
     "data": {
      "text/plain": [
       "MyDataset(n_graphs=100)"
      ]
     },
     "execution_count": 4,
     "metadata": {},
     "output_type": "execute_result"
    }
   ],
   "source": [
    "dataset = MyDataset(100)\n",
    "dataset"
   ]
  },
  {
   "cell_type": "raw",
   "id": "2e4bc238",
   "metadata": {},
   "source": [
    "print(dataset[0].a)"
   ]
  },
  {
   "cell_type": "code",
   "execution_count": 5,
   "id": "01d461cc",
   "metadata": {},
   "outputs": [
    {
     "name": "stdout",
     "output_type": "stream",
     "text": [
      "Graph(n_nodes=179, n_node_features=1, n_edge_features=None, n_labels=1) 1\n",
      "Graph(n_nodes=126, n_node_features=1, n_edge_features=None, n_labels=1) 0\n",
      "Graph(n_nodes=129, n_node_features=1, n_edge_features=None, n_labels=1) 1\n",
      "Graph(n_nodes=178, n_node_features=1, n_edge_features=None, n_labels=1) 1\n",
      "Graph(n_nodes=128, n_node_features=1, n_edge_features=None, n_labels=1) 0\n",
      "Graph(n_nodes=178, n_node_features=1, n_edge_features=None, n_labels=1) 1\n",
      "Graph(n_nodes=110, n_node_features=1, n_edge_features=None, n_labels=1) 1\n",
      "Graph(n_nodes=102, n_node_features=1, n_edge_features=None, n_labels=1) 1\n",
      "Graph(n_nodes=126, n_node_features=1, n_edge_features=None, n_labels=1) 1\n",
      "Graph(n_nodes=178, n_node_features=1, n_edge_features=None, n_labels=1) 1\n",
      "Graph(n_nodes=135, n_node_features=1, n_edge_features=None, n_labels=1) 0\n",
      "Graph(n_nodes=132, n_node_features=1, n_edge_features=None, n_labels=1) 1\n",
      "Graph(n_nodes=123, n_node_features=1, n_edge_features=None, n_labels=1) 0\n",
      "Graph(n_nodes=131, n_node_features=1, n_edge_features=None, n_labels=1) 1\n",
      "Graph(n_nodes=175, n_node_features=1, n_edge_features=None, n_labels=1) 1\n",
      "Graph(n_nodes=128, n_node_features=1, n_edge_features=None, n_labels=1) 0\n",
      "Graph(n_nodes=127, n_node_features=1, n_edge_features=None, n_labels=1) 0\n",
      "Graph(n_nodes=179, n_node_features=1, n_edge_features=None, n_labels=1) 1\n",
      "Graph(n_nodes=135, n_node_features=1, n_edge_features=None, n_labels=1) 0\n",
      "Graph(n_nodes=116, n_node_features=1, n_edge_features=None, n_labels=1) 1\n",
      "Graph(n_nodes=114, n_node_features=1, n_edge_features=None, n_labels=1) 1\n",
      "Graph(n_nodes=178, n_node_features=1, n_edge_features=None, n_labels=1) 1\n",
      "Graph(n_nodes=137, n_node_features=1, n_edge_features=None, n_labels=1) 0\n",
      "Graph(n_nodes=118, n_node_features=1, n_edge_features=None, n_labels=1) 1\n",
      "Graph(n_nodes=154, n_node_features=1, n_edge_features=None, n_labels=1) 0\n",
      "Graph(n_nodes=128, n_node_features=1, n_edge_features=None, n_labels=1) 0\n",
      "Graph(n_nodes=203, n_node_features=1, n_edge_features=None, n_labels=1) 1\n",
      "Graph(n_nodes=154, n_node_features=1, n_edge_features=None, n_labels=1) 0\n",
      "Graph(n_nodes=119, n_node_features=1, n_edge_features=None, n_labels=1) 0\n",
      "Graph(n_nodes=158, n_node_features=1, n_edge_features=None, n_labels=1) 0\n",
      "Graph(n_nodes=116, n_node_features=1, n_edge_features=None, n_labels=1) 0\n",
      "Graph(n_nodes=131, n_node_features=1, n_edge_features=None, n_labels=1) 0\n",
      "Graph(n_nodes=172, n_node_features=1, n_edge_features=None, n_labels=1) 0\n",
      "Graph(n_nodes=94, n_node_features=1, n_edge_features=None, n_labels=1) 1\n",
      "Graph(n_nodes=126, n_node_features=1, n_edge_features=None, n_labels=1) 0\n",
      "Graph(n_nodes=127, n_node_features=1, n_edge_features=None, n_labels=1) 0\n",
      "Graph(n_nodes=93, n_node_features=1, n_edge_features=None, n_labels=1) 1\n",
      "Graph(n_nodes=130, n_node_features=1, n_edge_features=None, n_labels=1) 0\n",
      "Graph(n_nodes=123, n_node_features=1, n_edge_features=None, n_labels=1) 0\n",
      "Graph(n_nodes=171, n_node_features=1, n_edge_features=None, n_labels=1) 1\n",
      "Graph(n_nodes=130, n_node_features=1, n_edge_features=None, n_labels=1) 0\n",
      "Graph(n_nodes=125, n_node_features=1, n_edge_features=None, n_labels=1) 1\n",
      "Graph(n_nodes=123, n_node_features=1, n_edge_features=None, n_labels=1) 0\n",
      "Graph(n_nodes=127, n_node_features=1, n_edge_features=None, n_labels=1) 0\n",
      "Graph(n_nodes=146, n_node_features=1, n_edge_features=None, n_labels=1) 0\n",
      "Graph(n_nodes=123, n_node_features=1, n_edge_features=None, n_labels=1) 0\n",
      "Graph(n_nodes=127, n_node_features=1, n_edge_features=None, n_labels=1) 1\n",
      "Graph(n_nodes=110, n_node_features=1, n_edge_features=None, n_labels=1) 1\n",
      "Graph(n_nodes=128, n_node_features=1, n_edge_features=None, n_labels=1) 1\n",
      "Graph(n_nodes=94, n_node_features=1, n_edge_features=None, n_labels=1) 1\n",
      "Graph(n_nodes=124, n_node_features=1, n_edge_features=None, n_labels=1) 1\n",
      "Graph(n_nodes=363, n_node_features=1, n_edge_features=None, n_labels=1) 1\n",
      "Graph(n_nodes=123, n_node_features=1, n_edge_features=None, n_labels=1) 0\n",
      "Graph(n_nodes=105, n_node_features=1, n_edge_features=None, n_labels=1) 1\n",
      "Graph(n_nodes=123, n_node_features=1, n_edge_features=None, n_labels=1) 0\n",
      "Graph(n_nodes=137, n_node_features=1, n_edge_features=None, n_labels=1) 0\n",
      "Graph(n_nodes=154, n_node_features=1, n_edge_features=None, n_labels=1) 0\n",
      "Graph(n_nodes=363, n_node_features=1, n_edge_features=None, n_labels=1) 1\n",
      "Graph(n_nodes=137, n_node_features=1, n_edge_features=None, n_labels=1) 0\n",
      "Graph(n_nodes=133, n_node_features=1, n_edge_features=None, n_labels=1) 1\n",
      "Graph(n_nodes=128, n_node_features=1, n_edge_features=None, n_labels=1) 0\n",
      "Graph(n_nodes=199, n_node_features=1, n_edge_features=None, n_labels=1) 1\n",
      "Graph(n_nodes=144, n_node_features=1, n_edge_features=None, n_labels=1) 0\n",
      "Graph(n_nodes=123, n_node_features=1, n_edge_features=None, n_labels=1) 0\n",
      "Graph(n_nodes=179, n_node_features=1, n_edge_features=None, n_labels=1) 1\n",
      "Graph(n_nodes=124, n_node_features=1, n_edge_features=None, n_labels=1) 1\n",
      "Graph(n_nodes=117, n_node_features=1, n_edge_features=None, n_labels=1) 1\n",
      "Graph(n_nodes=154, n_node_features=1, n_edge_features=None, n_labels=1) 0\n",
      "Graph(n_nodes=110, n_node_features=1, n_edge_features=None, n_labels=1) 1\n",
      "Graph(n_nodes=102, n_node_features=1, n_edge_features=None, n_labels=1) 1\n",
      "Graph(n_nodes=123, n_node_features=1, n_edge_features=None, n_labels=1) 0\n",
      "Graph(n_nodes=151, n_node_features=1, n_edge_features=None, n_labels=1) 0\n",
      "Graph(n_nodes=119, n_node_features=1, n_edge_features=None, n_labels=1) 1\n",
      "Graph(n_nodes=200, n_node_features=1, n_edge_features=None, n_labels=1) 1\n",
      "Graph(n_nodes=123, n_node_features=1, n_edge_features=None, n_labels=1) 0\n",
      "Graph(n_nodes=144, n_node_features=1, n_edge_features=None, n_labels=1) 0\n",
      "Graph(n_nodes=363, n_node_features=1, n_edge_features=None, n_labels=1) 1\n",
      "Graph(n_nodes=123, n_node_features=1, n_edge_features=None, n_labels=1) 0\n",
      "Graph(n_nodes=146, n_node_features=1, n_edge_features=None, n_labels=1) 0\n",
      "Graph(n_nodes=177, n_node_features=1, n_edge_features=None, n_labels=1) 1\n",
      "Graph(n_nodes=121, n_node_features=1, n_edge_features=None, n_labels=1) 0\n",
      "Graph(n_nodes=147, n_node_features=1, n_edge_features=None, n_labels=1) 0\n",
      "Graph(n_nodes=128, n_node_features=1, n_edge_features=None, n_labels=1) 0\n",
      "Graph(n_nodes=96, n_node_features=1, n_edge_features=None, n_labels=1) 1\n",
      "Graph(n_nodes=135, n_node_features=1, n_edge_features=None, n_labels=1) 1\n",
      "Graph(n_nodes=123, n_node_features=1, n_edge_features=None, n_labels=1) 1\n",
      "Graph(n_nodes=124, n_node_features=1, n_edge_features=None, n_labels=1) 1\n",
      "Graph(n_nodes=138, n_node_features=1, n_edge_features=None, n_labels=1) 0\n",
      "Graph(n_nodes=178, n_node_features=1, n_edge_features=None, n_labels=1) 1\n",
      "Graph(n_nodes=105, n_node_features=1, n_edge_features=None, n_labels=1) 1\n",
      "Graph(n_nodes=154, n_node_features=1, n_edge_features=None, n_labels=1) 0\n",
      "Graph(n_nodes=116, n_node_features=1, n_edge_features=None, n_labels=1) 0\n",
      "Graph(n_nodes=178, n_node_features=1, n_edge_features=None, n_labels=1) 1\n",
      "Graph(n_nodes=128, n_node_features=1, n_edge_features=None, n_labels=1) 0\n",
      "Graph(n_nodes=121, n_node_features=1, n_edge_features=None, n_labels=1) 0\n",
      "Graph(n_nodes=110, n_node_features=1, n_edge_features=None, n_labels=1) 1\n",
      "Graph(n_nodes=135, n_node_features=1, n_edge_features=None, n_labels=1) 1\n",
      "Graph(n_nodes=133, n_node_features=1, n_edge_features=None, n_labels=1) 1\n",
      "Graph(n_nodes=124, n_node_features=1, n_edge_features=None, n_labels=1) 1\n",
      "Graph(n_nodes=121, n_node_features=1, n_edge_features=None, n_labels=1) 1\n"
     ]
    }
   ],
   "source": [
    "for g in dataset:\n",
    "    print(g, g.y)"
   ]
  },
  {
   "cell_type": "code",
   "execution_count": 8,
   "id": "4e329a37",
   "metadata": {},
   "outputs": [],
   "source": [
    "class MyFirstGNN(Model):\n",
    "\n",
    "    def __init__(self, n_hidden, n_labels):\n",
    "        super().__init__()\n",
    "        self.graph_conv = GCNConv(n_hidden)\n",
    "        self.pool = GlobalSumPool()\n",
    "        self.dropout = Dropout(0.1)\n",
    "        self.dense = Dense(n_labels, 'softmax')\n",
    "\n",
    "    def call(self, inputs):\n",
    "        #print(inputs)\n",
    "        out = self.graph_conv(inputs)\n",
    "        out = self.dropout(out)\n",
    "        out = self.pool(out)\n",
    "        out = self.dense(out)\n",
    "\n",
    "        return out"
   ]
  },
  {
   "cell_type": "code",
   "execution_count": 6,
   "id": "f6b1978b",
   "metadata": {},
   "outputs": [
    {
     "data": {
      "text/plain": [
       "1"
      ]
     },
     "execution_count": 6,
     "metadata": {},
     "output_type": "execute_result"
    }
   ],
   "source": []
  },
  {
   "cell_type": "code",
   "execution_count": 14,
   "id": "18cd79d5",
   "metadata": {},
   "outputs": [],
   "source": [
    "model = MyFirstGNN(10, dataset.n_labels)\n",
    "model.compile('adam', 'categorical_crossentropy')"
   ]
  },
  {
   "cell_type": "code",
   "execution_count": 15,
   "id": "d4cf05a4",
   "metadata": {},
   "outputs": [],
   "source": [
    "# Train/test split\n",
    "np.random.shuffle(dataset)\n",
    "split = int(0.8 * len(dataset))\n",
    "dataset_train, dataset_test = dataset[:split], dataset[split:]"
   ]
  },
  {
   "cell_type": "raw",
   "id": "abadb32c",
   "metadata": {},
   "source": [
    "dataset_train"
   ]
  },
  {
   "cell_type": "raw",
   "id": "3d4c8b25",
   "metadata": {},
   "source": [
    "dataset_train[0]"
   ]
  },
  {
   "cell_type": "raw",
   "id": "9e3078b3",
   "metadata": {},
   "source": [
    "print(type(dataset_train[0].x))"
   ]
  },
  {
   "cell_type": "code",
   "execution_count": 16,
   "id": "bc432fed",
   "metadata": {},
   "outputs": [],
   "source": [
    "from spektral.data import BatchLoader\n",
    "from spektral.data import DisjointLoader\n",
    "loader = BatchLoader(dataset_train, batch_size=10)\n",
    "#loader = DisjointLoader(dataset, batch_size=10)"
   ]
  },
  {
   "cell_type": "code",
   "execution_count": 17,
   "id": "f0bf7a28",
   "metadata": {},
   "outputs": [
    {
     "data": {
      "text/plain": [
       "8"
      ]
     },
     "execution_count": 17,
     "metadata": {},
     "output_type": "execute_result"
    }
   ],
   "source": [
    "loader.steps_per_epoch"
   ]
  },
  {
   "cell_type": "code",
   "execution_count": 18,
   "id": "d030ccd9",
   "metadata": {},
   "outputs": [
    {
     "name": "stdout",
     "output_type": "stream",
     "text": [
      "Epoch 1/10\n",
      "8/8 [==============================] - 1s 8ms/step - loss: 0.0000e+00\n",
      "Epoch 2/10\n",
      "8/8 [==============================] - 0s 9ms/step - loss: 0.0000e+00\n",
      "Epoch 3/10\n",
      "8/8 [==============================] - 0s 7ms/step - loss: 0.0000e+00\n",
      "Epoch 4/10\n",
      "8/8 [==============================] - 0s 4ms/step - loss: 0.0000e+00\n",
      "Epoch 5/10\n",
      "8/8 [==============================] - 0s 5ms/step - loss: 0.0000e+00\n",
      "Epoch 6/10\n",
      "8/8 [==============================] - 0s 6ms/step - loss: 0.0000e+00\n",
      "Epoch 7/10\n",
      "8/8 [==============================] - 0s 7ms/step - loss: 0.0000e+00\n",
      "Epoch 8/10\n",
      "8/8 [==============================] - 0s 6ms/step - loss: 0.0000e+00\n",
      "Epoch 9/10\n",
      "8/8 [==============================] - 0s 6ms/step - loss: 0.0000e+00\n",
      "Epoch 10/10\n",
      "8/8 [==============================] - 0s 6ms/step - loss: 0.0000e+00\n"
     ]
    },
    {
     "data": {
      "text/plain": [
       "<keras.callbacks.History at 0x7fcf4defeb20>"
      ]
     },
     "execution_count": 18,
     "metadata": {},
     "output_type": "execute_result"
    }
   ],
   "source": [
    "model.fit(loader.load(), steps_per_epoch=loader.steps_per_epoch, epochs=10)"
   ]
  },
  {
   "cell_type": "code",
   "execution_count": 19,
   "id": "bdd92206",
   "metadata": {},
   "outputs": [],
   "source": [
    "loader = BatchLoader(dataset_test, batch_size=32)"
   ]
  },
  {
   "cell_type": "code",
   "execution_count": 20,
   "id": "1b105199",
   "metadata": {},
   "outputs": [
    {
     "name": "stdout",
     "output_type": "stream",
     "text": [
      "1/1 [==============================] - 0s 141ms/step - loss: 0.0000e+00\n",
      "Test loss: 0.0\n"
     ]
    }
   ],
   "source": [
    "loss = model.evaluate(loader.load(), steps=loader.steps_per_epoch)\n",
    "\n",
    "print('Test loss: {}'.format(loss))"
   ]
  },
  {
   "cell_type": "code",
   "execution_count": null,
   "id": "4ea99a88",
   "metadata": {},
   "outputs": [],
   "source": []
  },
  {
   "cell_type": "code",
   "execution_count": null,
   "id": "ab82ba91",
   "metadata": {},
   "outputs": [],
   "source": []
  }
 ],
 "metadata": {
  "kernelspec": {
   "display_name": "Python 3",
   "language": "python",
   "name": "python3"
  },
  "language_info": {
   "codemirror_mode": {
    "name": "ipython",
    "version": 3
   },
   "file_extension": ".py",
   "mimetype": "text/x-python",
   "name": "python",
   "nbconvert_exporter": "python",
   "pygments_lexer": "ipython3",
   "version": "3.8.8"
  }
 },
 "nbformat": 4,
 "nbformat_minor": 5
}
