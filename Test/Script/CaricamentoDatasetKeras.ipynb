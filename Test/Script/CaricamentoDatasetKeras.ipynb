{
 "cells": [
  {
   "cell_type": "code",
   "execution_count": 121,
   "id": "9133e28f",
   "metadata": {},
   "outputs": [],
   "source": [
    "import numpy as np\n",
    "from tensorflow.keras.models import Model\n",
    "\n",
    "from spektral.data import Dataset,Graph\n",
    "from spektral.transforms.normalize_adj import NormalizeAdj\n",
    "\n",
    "##########\n",
    "#DataFrame\n",
    "import pandas as pd\n",
    "from numpy import array\n",
    "#Matrice Sparsa\n",
    "from scipy.sparse import csr_matrix\n",
    "#Aprire i File\n",
    "import os\n",
    "#Per la gestione dei file già esistenti\n",
    "from os.path import exists\n",
    "##########\n",
    "#######################\n",
    "# Load data\n",
    "################################################################################\n",
    "class MyDataset(Dataset):\n",
    "    \n",
    "    def __init__(self, n_samples, **kwargs):\n",
    "        self.n_samples = n_samples\n",
    "        super().__init__(**kwargs)\n",
    "\n",
    "    def read(self):\n",
    "        id_p_e = []\n",
    "        def make_graph():\n",
    "           \n",
    "            proteine_path = \"../Dati/proteine.csv\"\n",
    "            proteine = pd.read_csv(proteine_path, sep = ',')\n",
    "            for filename in os.listdir(\"../Dati/Grafi/\"):  \n",
    "                with open(os.path.join(\"../Dati/Grafi/\", filename), 'r', encoding='windows-1252') as f:\n",
    "                    id_p = filename[0:4]\n",
    "                    if (filename != \".DS_Store\") and (id_p not in id_p_e):\n",
    "                        id_p_e.append(id_p)\n",
    "                        data = np.load(\"../Dati/Grafi/{}.npz\".format(id_p), allow_pickle=True)\n",
    "                        #print(id_p, id_p_e)\n",
    "                        \n",
    "                        return Graph(x= data['x'], a= csr_matrix(data['a'].all()), e = None, y= data['y'])\n",
    "                        #                             csr_matrix(data['a'].all())\n",
    "\n",
    "\n",
    "        # We must return a list of Graph objects\n",
    "        return [make_graph() for _ in range(self.n_samples)]"
   ]
  },
  {
   "cell_type": "code",
   "execution_count": 122,
   "id": "49fdd21b",
   "metadata": {},
   "outputs": [],
   "source": [
    "dataset = MyDataset(5)"
   ]
  },
  {
   "cell_type": "code",
   "execution_count": 123,
   "id": "24c89f56",
   "metadata": {},
   "outputs": [
    {
     "data": {
      "text/plain": [
       "__main__.MyDataset"
      ]
     },
     "execution_count": 123,
     "metadata": {},
     "output_type": "execute_result"
    }
   ],
   "source": [
    "type(dataset)"
   ]
  },
  {
   "cell_type": "code",
   "execution_count": 124,
   "id": "3d97a119",
   "metadata": {},
   "outputs": [
    {
     "data": {
      "text/plain": [
       "MyDataset(n_graphs=5)"
      ]
     },
     "execution_count": 124,
     "metadata": {},
     "output_type": "execute_result"
    }
   ],
   "source": [
    "dataset"
   ]
  },
  {
   "cell_type": "code",
   "execution_count": 131,
   "id": "3b074f21",
   "metadata": {},
   "outputs": [
    {
     "data": {
      "text/plain": [
       "array([[11],\n",
       "       [15],\n",
       "       [13],\n",
       "       [18],\n",
       "       [ 3],\n",
       "       [ 0],\n",
       "       [19],\n",
       "       [ 7],\n",
       "       [ 7],\n",
       "       [ 0],\n",
       "       [11],\n",
       "       [16],\n",
       "       [13],\n",
       "       [ 3],\n",
       "       [ 0],\n",
       "       [ 9],\n",
       "       [19],\n",
       "       [15],\n",
       "       [ 1],\n",
       "       [13],\n",
       "       [18],\n",
       "       [ 0],\n",
       "       [ 5],\n",
       "       [19],\n",
       "       [ 0],\n",
       "       [ 6],\n",
       "       [ 3],\n",
       "       [ 6],\n",
       "       [19],\n",
       "       [10],\n",
       "       [ 1],\n",
       "       [ 1],\n",
       "       [19],\n",
       "       [18],\n",
       "       [14],\n",
       "       [ 6],\n",
       "       [ 3],\n",
       "       [ 3],\n",
       "       [10],\n",
       "       [ 0],\n",
       "       [ 7],\n",
       "       [ 0],\n",
       "       [ 6],\n",
       "       [ 6],\n",
       "       [ 1],\n",
       "       [10],\n",
       "       [ 1],\n",
       "       [12],\n",
       "       [13],\n",
       "       [10],\n",
       "       [ 6],\n",
       "       [ 5],\n",
       "       [18],\n",
       "       [17],\n",
       "       [ 7],\n",
       "       [ 7],\n",
       "       [14],\n",
       "       [ 1],\n",
       "       [16],\n",
       "       [18],\n",
       "       [15],\n",
       "       [ 6],\n",
       "       [ 5],\n",
       "       [ 1],\n",
       "       [ 7],\n",
       "       [ 8],\n",
       "       [14],\n",
       "       [ 1],\n",
       "       [10],\n",
       "       [ 1],\n",
       "       [12],\n",
       "       [ 1],\n",
       "       [ 8],\n",
       "       [ 0],\n",
       "       [14],\n",
       "       [13],\n",
       "       [ 1],\n",
       "       [ 9],\n",
       "       [15],\n",
       "       [10],\n",
       "       [ 9],\n",
       "       [ 6],\n",
       "       [ 1],\n",
       "       [ 3],\n",
       "       [ 0],\n",
       "       [13],\n",
       "       [10],\n",
       "       [ 1],\n",
       "       [ 4],\n",
       "       [12],\n",
       "       [ 8],\n",
       "       [16],\n",
       "       [ 0],\n",
       "       [19],\n",
       "       [ 0],\n",
       "       [15],\n",
       "       [ 9],\n",
       "       [ 3],\n",
       "       [15],\n",
       "       [ 6],\n",
       "       [16],\n",
       "       [10],\n",
       "       [ 3],\n",
       "       [ 3],\n",
       "       [ 6],\n",
       "       [ 8],\n",
       "       [ 1],\n",
       "       [ 1],\n",
       "       [ 6],\n",
       "       [10],\n",
       "       [10],\n",
       "       [ 3],\n",
       "       [18],\n",
       "       [10],\n",
       "       [ 6],\n",
       "       [12],\n",
       "       [ 0],\n",
       "       [ 0],\n",
       "       [ 8],\n",
       "       [15],\n",
       "       [10],\n",
       "       [19],\n",
       "       [ 2],\n",
       "       [15],\n",
       "       [14],\n",
       "       [13]])"
      ]
     },
     "execution_count": 131,
     "metadata": {},
     "output_type": "execute_result"
    }
   ],
   "source": [
    "dataset[0].x"
   ]
  },
  {
   "cell_type": "code",
   "execution_count": 126,
   "id": "78dc002a",
   "metadata": {},
   "outputs": [
    {
     "name": "stdout",
     "output_type": "stream",
     "text": [
      "Graph(n_nodes=126, n_node_features=1, n_edge_features=None, n_labels=1) Classe ->  0\n",
      "Graph(n_nodes=128, n_node_features=1, n_edge_features=None, n_labels=1) Classe ->  0\n",
      "Graph(n_nodes=135, n_node_features=1, n_edge_features=None, n_labels=1) Classe ->  0\n",
      "Graph(n_nodes=123, n_node_features=1, n_edge_features=None, n_labels=1) Classe ->  0\n",
      "Graph(n_nodes=128, n_node_features=1, n_edge_features=None, n_labels=1) Classe ->  0\n"
     ]
    }
   ],
   "source": [
    "for grafo in range(dataset.n_graphs):\n",
    "    print(dataset[grafo], \"Classe -> \",data[grafo].y)"
   ]
  },
  {
   "cell_type": "code",
   "execution_count": 128,
   "id": "d348d819",
   "metadata": {},
   "outputs": [
    {
     "data": {
      "text/plain": [
       "array(0)"
      ]
     },
     "execution_count": 128,
     "metadata": {},
     "output_type": "execute_result"
    }
   ],
   "source": [
    "dataset[0].y"
   ]
  },
  {
   "cell_type": "code",
   "execution_count": null,
   "id": "3184ed57",
   "metadata": {},
   "outputs": [],
   "source": []
  }
 ],
 "metadata": {
  "kernelspec": {
   "display_name": "Python 3",
   "language": "python",
   "name": "python3"
  },
  "language_info": {
   "codemirror_mode": {
    "name": "ipython",
    "version": 3
   },
   "file_extension": ".py",
   "mimetype": "text/x-python",
   "name": "python",
   "nbconvert_exporter": "python",
   "pygments_lexer": "ipython3",
   "version": "3.8.8"
  }
 },
 "nbformat": 4,
 "nbformat_minor": 5
}
