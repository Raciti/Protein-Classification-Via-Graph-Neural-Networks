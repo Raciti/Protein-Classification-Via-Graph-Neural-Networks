{
 "cells": [
  {
   "cell_type": "code",
   "execution_count": 4,
   "id": "e3cc6ddf",
   "metadata": {},
   "outputs": [],
   "source": [
    "#DataFrame\n",
    "import pandas as pd\n",
    "#Tensori\n",
    "import numpy as np\n",
    "from numpy import array\n",
    "#Matrice Sparsa\n",
    "from scipy.sparse import csr_matrix\n",
    "#GNN\n",
    "import spektral"
   ]
  },
  {
   "cell_type": "code",
   "execution_count": 5,
   "id": "d9242af6",
   "metadata": {},
   "outputs": [
    {
     "data": {
      "text/html": [
       "<div>\n",
       "<style scoped>\n",
       "    .dataframe tbody tr th:only-of-type {\n",
       "        vertical-align: middle;\n",
       "    }\n",
       "\n",
       "    .dataframe tbody tr th {\n",
       "        vertical-align: top;\n",
       "    }\n",
       "\n",
       "    .dataframe thead th {\n",
       "        text-align: right;\n",
       "    }\n",
       "</style>\n",
       "<table border=\"1\" class=\"dataframe\">\n",
       "  <thead>\n",
       "    <tr style=\"text-align: right;\">\n",
       "      <th></th>\n",
       "      <th>Id</th>\n",
       "      <th>IdCentrale</th>\n",
       "      <th>Classe</th>\n",
       "    </tr>\n",
       "  </thead>\n",
       "  <tbody>\n",
       "    <tr>\n",
       "      <th>0</th>\n",
       "      <td>1ux8</td>\n",
       "      <td>ux</td>\n",
       "      <td>a.1.1.1</td>\n",
       "    </tr>\n",
       "    <tr>\n",
       "      <th>1</th>\n",
       "      <td>1dlw</td>\n",
       "      <td>dl</td>\n",
       "      <td>a.1.1.1</td>\n",
       "    </tr>\n",
       "    <tr>\n",
       "      <th>2</th>\n",
       "      <td>1uvy</td>\n",
       "      <td>uv</td>\n",
       "      <td>a.1.1.1</td>\n",
       "    </tr>\n",
       "    <tr>\n",
       "      <th>3</th>\n",
       "      <td>1dly</td>\n",
       "      <td>dl</td>\n",
       "      <td>a.1.1.1</td>\n",
       "    </tr>\n",
       "    <tr>\n",
       "      <th>4</th>\n",
       "      <td>1uvx</td>\n",
       "      <td>uv</td>\n",
       "      <td>a.1.1.1</td>\n",
       "    </tr>\n",
       "    <tr>\n",
       "      <th>...</th>\n",
       "      <td>...</td>\n",
       "      <td>...</td>\n",
       "      <td>...</td>\n",
       "    </tr>\n",
       "    <tr>\n",
       "      <th>3288</th>\n",
       "      <td>6np9</td>\n",
       "      <td>np</td>\n",
       "      <td>l.1.1.1</td>\n",
       "    </tr>\n",
       "    <tr>\n",
       "      <th>3289</th>\n",
       "      <td>5z0k</td>\n",
       "      <td>z0</td>\n",
       "      <td>l.1.1.1</td>\n",
       "    </tr>\n",
       "    <tr>\n",
       "      <th>3290</th>\n",
       "      <td>6zbq</td>\n",
       "      <td>zb</td>\n",
       "      <td>l.1.1.1</td>\n",
       "    </tr>\n",
       "    <tr>\n",
       "      <th>3291</th>\n",
       "      <td>6ilx</td>\n",
       "      <td>il</td>\n",
       "      <td>l.1.1.1</td>\n",
       "    </tr>\n",
       "    <tr>\n",
       "      <th>3292</th>\n",
       "      <td>2qo5</td>\n",
       "      <td>qo</td>\n",
       "      <td>l.1.1.1</td>\n",
       "    </tr>\n",
       "  </tbody>\n",
       "</table>\n",
       "<p>3293 rows × 3 columns</p>\n",
       "</div>"
      ],
      "text/plain": [
       "        Id IdCentrale   Classe\n",
       "0     1ux8         ux  a.1.1.1\n",
       "1     1dlw         dl  a.1.1.1\n",
       "2     1uvy         uv  a.1.1.1\n",
       "3     1dly         dl  a.1.1.1\n",
       "4     1uvx         uv  a.1.1.1\n",
       "...    ...        ...      ...\n",
       "3288  6np9         np  l.1.1.1\n",
       "3289  5z0k         z0  l.1.1.1\n",
       "3290  6zbq         zb  l.1.1.1\n",
       "3291  6ilx         il  l.1.1.1\n",
       "3292  2qo5         qo  l.1.1.1\n",
       "\n",
       "[3293 rows x 3 columns]"
      ]
     },
     "execution_count": 5,
     "metadata": {},
     "output_type": "execute_result"
    }
   ],
   "source": [
    "proteine_path = \"../Dati/proteine.csv\"\n",
    "proteine = pd.read_csv(proteine_path, sep = ',')\n",
    "proteine"
   ]
  },
  {
   "cell_type": "code",
   "execution_count": 6,
   "id": "1409a9de",
   "metadata": {},
   "outputs": [
    {
     "name": "stdout",
     "output_type": "stream",
     "text": [
      "1ux8\n"
     ]
    }
   ],
   "source": [
    "#Id della proteina che si sta analizzando\n",
    "id_p = proteine[\"Id\"][0]\n",
    "print(id_p)"
   ]
  },
  {
   "cell_type": "code",
   "execution_count": 7,
   "id": "e4eb6ef2",
   "metadata": {},
   "outputs": [
    {
     "name": "stdout",
     "output_type": "stream",
     "text": [
      "../../R/Rdati/Matrici Adiacenza/1ux8.csv\n"
     ]
    }
   ],
   "source": [
    "matrix = \"../../R/Rdati/Matrici Adiacenza/{}.csv\".format(id_p)\n",
    "print(matrix)"
   ]
  },
  {
   "cell_type": "code",
   "execution_count": 8,
   "id": "35a073fe",
   "metadata": {},
   "outputs": [],
   "source": [
    "#Matrice adiacenza singola matrice inserita in un dataframe\n",
    "proteina = pd.read_csv(matrix, sep = ';')\n",
    "#Nomi dei nodi nonché numero\n",
    "Nodes = list(proteina.columns[1:])\n",
    "#Lista degli Amino acidi\n",
    "Amino = list(proteina.iloc[0][1:])\n",
    "proteina.drop(proteina.columns[[0]], axis = 1, inplace = True)\n",
    "proteina.drop([0], axis = 0, inplace = True)\n",
    "#Classe della proteina\n",
    "classe = proteine[proteine['Id'] == id_p][\"Classe\"][0][0]"
   ]
  },
  {
   "cell_type": "raw",
   "id": "4738eb6f",
   "metadata": {},
   "source": [
    "#Creazione del array.numpy che conterrà per coppie Nodo, Feature nodo. Che nel nostro caso sono gli aminoacidi\n",
    "Nodes_numpy = []\n",
    "for i in range(len(Nodes)):\n",
    "    Nodes_numpy.append((Nodes[i], Amino[i]))\n",
    "\n",
    "x = array(Nodes_numpy)"
   ]
  },
  {
   "cell_type": "code",
   "execution_count": 17,
   "id": "761e46d3",
   "metadata": {},
   "outputs": [
    {
     "name": "stdout",
     "output_type": "stream",
     "text": [
      "[['ASN']\n",
      " ['ALA']\n",
      " ['PRO']\n",
      " ['TYR']\n",
      " ['GLU']\n",
      " ['ALA']\n",
      " ['ILE']\n",
      " ['GLY']\n",
      " ['GLU']\n",
      " ['GLU']\n",
      " ['LEU']\n",
      " ['LEU']\n",
      " ['SER']\n",
      " ['GLN']\n",
      " ['LEU']\n",
      " ['VAL']\n",
      " ['ASP']\n",
      " ['THR']\n",
      " ['PHE']\n",
      " ['TYR']\n",
      " ['GLU']\n",
      " ['ARG']\n",
      " ['VAL']\n",
      " ['ALA']\n",
      " ['SER']\n",
      " ['HIS']\n",
      " ['PRO']\n",
      " ['LEU']\n",
      " ['LEU']\n",
      " ['LYS']\n",
      " ['PRO']\n",
      " ['ILE']\n",
      " ['PHE']\n",
      " ['PRO']\n",
      " ['SER']\n",
      " ['ASP']\n",
      " ['LEU']\n",
      " ['THR']\n",
      " ['GLU']\n",
      " ['THR']\n",
      " ['ALA']\n",
      " ['ARG']\n",
      " ['LYS']\n",
      " ['GLN']\n",
      " ['LYS']\n",
      " ['GLN']\n",
      " ['PHE']\n",
      " ['LEU']\n",
      " ['THR']\n",
      " ['GLN']\n",
      " ['TYR']\n",
      " ['LEU']\n",
      " ['GLY']\n",
      " ['GLY']\n",
      " ['PRO']\n",
      " ['PRO']\n",
      " ['LEU']\n",
      " ['TYR']\n",
      " ['THR']\n",
      " ['GLU']\n",
      " ['GLU']\n",
      " ['HIS']\n",
      " ['GLY']\n",
      " ['HIS']\n",
      " ['PRO']\n",
      " ['MET']\n",
      " ['LEU']\n",
      " ['ARG']\n",
      " ['ALA']\n",
      " ['ARG']\n",
      " ['HIS']\n",
      " ['LEU']\n",
      " ['PRO']\n",
      " ['PHE']\n",
      " ['PRO']\n",
      " ['ILE']\n",
      " ['THR']\n",
      " ['ASN']\n",
      " ['GLU']\n",
      " ['ARG']\n",
      " ['ALA']\n",
      " ['ASP']\n",
      " ['ALA']\n",
      " ['TRP']\n",
      " ['LEU']\n",
      " ['SER']\n",
      " ['CYS']\n",
      " ['MET']\n",
      " ['LYS']\n",
      " ['ASP']\n",
      " ['ALA']\n",
      " ['MET']\n",
      " ['ASP']\n",
      " ['HIS']\n",
      " ['VAL']\n",
      " ['GLY']\n",
      " ['LEU']\n",
      " ['GLU']\n",
      " ['GLY']\n",
      " ['GLU']\n",
      " ['ILE']\n",
      " ['ARG']\n",
      " ['GLU']\n",
      " ['PHE']\n",
      " ['LEU']\n",
      " ['PHE']\n",
      " ['GLY']\n",
      " ['ARG']\n",
      " ['LEU']\n",
      " ['GLU']\n",
      " ['LEU']\n",
      " ['THR']\n",
      " ['ALA']\n",
      " ['ARG']\n",
      " ['HIS']\n",
      " ['MET']\n",
      " ['VAL']\n",
      " ['ASN']\n",
      " ['GLN']] (119, 1)\n"
     ]
    }
   ],
   "source": [
    "#Creazione del array.numpy che conterrà le Feature dei nodi. Che nel nostro caso sono gli aminoacidi\n",
    "x = array(Amino).reshape(len(Amino),1)\n",
    "print(x, x.shape)"
   ]
  },
  {
   "cell_type": "code",
   "execution_count": 19,
   "id": "0be7f27b",
   "metadata": {},
   "outputs": [
    {
     "data": {
      "text/plain": [
       "'ASN'"
      ]
     },
     "execution_count": 19,
     "metadata": {},
     "output_type": "execute_result"
    }
   ],
   "source": [
    "x[0][0]"
   ]
  },
  {
   "cell_type": "code",
   "execution_count": 11,
   "id": "29bd520b",
   "metadata": {},
   "outputs": [
    {
     "name": "stdout",
     "output_type": "stream",
     "text": [
      "(119,)\n"
     ]
    }
   ],
   "source": [
    "y = array(Amino, classe)\n",
    "print(y.shape)\n",
    "\n"
   ]
  },
  {
   "cell_type": "code",
   "execution_count": 13,
   "id": "1cafd6f0",
   "metadata": {},
   "outputs": [
    {
     "name": "stdout",
     "output_type": "stream",
     "text": [
      "[b'ASN' b'ALA' b'PRO' b'TYR' b'GLU' b'ALA' b'ILE' b'GLY' b'GLU' b'GLU'\n",
      " b'LEU' b'LEU' b'SER' b'GLN' b'LEU' b'VAL' b'ASP' b'THR' b'PHE' b'TYR'\n",
      " b'GLU' b'ARG' b'VAL' b'ALA' b'SER' b'HIS' b'PRO' b'LEU' b'LEU' b'LYS'\n",
      " b'PRO' b'ILE' b'PHE' b'PRO' b'SER' b'ASP' b'LEU' b'THR' b'GLU' b'THR'\n",
      " b'ALA' b'ARG' b'LYS' b'GLN' b'LYS' b'GLN' b'PHE' b'LEU' b'THR' b'GLN'\n",
      " b'TYR' b'LEU' b'GLY' b'GLY' b'PRO' b'PRO' b'LEU' b'TYR' b'THR' b'GLU'\n",
      " b'GLU' b'HIS' b'GLY' b'HIS' b'PRO' b'MET' b'LEU' b'ARG' b'ALA' b'ARG'\n",
      " b'HIS' b'LEU' b'PRO' b'PHE' b'PRO' b'ILE' b'THR' b'ASN' b'GLU' b'ARG'\n",
      " b'ALA' b'ASP' b'ALA' b'TRP' b'LEU' b'SER' b'CYS' b'MET' b'LYS' b'ASP'\n",
      " b'ALA' b'MET' b'ASP' b'HIS' b'VAL' b'GLY' b'LEU' b'GLU' b'GLY' b'GLU'\n",
      " b'ILE' b'ARG' b'GLU' b'PHE' b'LEU' b'PHE' b'GLY' b'ARG' b'LEU' b'GLU'\n",
      " b'LEU' b'THR' b'ALA' b'ARG' b'HIS' b'MET' b'VAL' b'ASN' b'GLN']\n"
     ]
    }
   ],
   "source": [
    "print(y)"
   ]
  },
  {
   "cell_type": "raw",
   "id": "247b68f6",
   "metadata": {},
   "source": [
    "# Node features\n",
    "c = np.zeros((n, self.n_colors))\n",
    "c[np.arange(n), colors] = 5"
   ]
  },
  {
   "cell_type": "code",
   "execution_count": 8,
   "id": "3662f180",
   "metadata": {},
   "outputs": [],
   "source": [
    "#Conversione dei valori del dataframe da str a int\n",
    "proteina = proteina.applymap(int)"
   ]
  },
  {
   "cell_type": "code",
   "execution_count": 9,
   "id": "a8da1933",
   "metadata": {},
   "outputs": [],
   "source": [
    "#Matrice d'adiacenza sparsa\n",
    "A = csr_matrix(proteina.values)"
   ]
  },
  {
   "cell_type": "code",
   "execution_count": 10,
   "id": "9acfc960",
   "metadata": {},
   "outputs": [
    {
     "name": "stdout",
     "output_type": "stream",
     "text": [
      "Graph(n_nodes=119, n_node_features=1, n_edge_features=None, n_labels=1)\n"
     ]
    }
   ],
   "source": [
    "#Creazione del Grafo\n",
    "G = spektral.data.graph.Graph(x= x, a= A, e=None, y=classe)\n",
    "print(G)"
   ]
  },
  {
   "cell_type": "code",
   "execution_count": 11,
   "id": "0ddbd3e8",
   "metadata": {},
   "outputs": [],
   "source": [
    "np.savez(\"../Dati/Grafi/grafo{}.npz\".format(1),  x= x, a = A, y = classe)"
   ]
  },
  {
   "cell_type": "code",
   "execution_count": 12,
   "id": "cccd543e",
   "metadata": {},
   "outputs": [],
   "source": [
    "data = np.load(\"../Dati/Grafi/grafo{}.npz\".format(1), allow_pickle=True)\n",
    "GRAFO = spektral.data.graph.Graph(x= data['x'], a= csr_matrix(data['a'].all()), e = None, y= data['y'])"
   ]
  },
  {
   "cell_type": "code",
   "execution_count": 13,
   "id": "452e710a",
   "metadata": {},
   "outputs": [
    {
     "name": "stdout",
     "output_type": "stream",
     "text": [
      "Graph(n_nodes=119, n_node_features=1, n_edge_features=None, n_labels=1)\n"
     ]
    }
   ],
   "source": [
    "print(GRAFO)"
   ]
  },
  {
   "cell_type": "code",
   "execution_count": 14,
   "id": "b558bf87",
   "metadata": {},
   "outputs": [
    {
     "name": "stdout",
     "output_type": "stream",
     "text": [
      "4vhb.csv\n",
      "4vhb\n",
      "1\n"
     ]
    }
   ],
   "source": [
    "import os\n",
    "\n",
    "i = 0\n",
    "for filename in os.listdir(\"../../R/Rdati/Matrici Adiacenza/\"):\n",
    "    with open(os.path.join(\"../../R/Rdati/Matrici Adiacenza/\", filename), 'r', encoding='windows-1252') as f:\n",
    "        text = f.read()\n",
    "        if filename != \".DS_Store\":\n",
    "            print(filename)\n",
    "            id_p = filename[0:4]\n",
    "            print(id_p)\n",
    "            i += 1\n",
    "            break\n",
    "    \n",
    "print(i)"
   ]
  },
  {
   "cell_type": "code",
   "execution_count": null,
   "id": "0d106985",
   "metadata": {},
   "outputs": [],
   "source": []
  }
 ],
 "metadata": {
  "kernelspec": {
   "display_name": "Python 3",
   "language": "python",
   "name": "python3"
  },
  "language_info": {
   "codemirror_mode": {
    "name": "ipython",
    "version": 3
   },
   "file_extension": ".py",
   "mimetype": "text/x-python",
   "name": "python",
   "nbconvert_exporter": "python",
   "pygments_lexer": "ipython3",
   "version": "3.8.8"
  }
 },
 "nbformat": 4,
 "nbformat_minor": 5
}
