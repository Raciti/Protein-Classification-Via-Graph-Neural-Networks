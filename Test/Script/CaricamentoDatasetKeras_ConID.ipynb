{
 "cells": [
  {
   "cell_type": "code",
   "execution_count": 13,
   "id": "616f47b1",
   "metadata": {},
   "outputs": [],
   "source": [
    "import numpy as np\n",
    "import tensorflow as tf\n",
    "from tensorflow.keras.layers import Dense\n",
    "from tensorflow.keras.losses import CategoricalCrossentropy\n",
    "from tensorflow.keras.metrics import categorical_accuracy\n",
    "from tensorflow.keras.models import Model\n",
    "from tensorflow.keras.optimizers import Adam\n",
    "\n",
    "from spektral.data import Dataset, DisjointLoader, Graph\n",
    "from spektral.layers import GCSConv, GlobalAvgPool\n",
    "from spektral.transforms.normalize_adj import NormalizeAdj\n",
    "\n",
    "##########\n",
    "#DataFrame\n",
    "import pandas as pd\n",
    "from numpy import array\n",
    "#Matrice Sparsa\n",
    "from scipy.sparse import csr_matrix\n",
    "#Aprire i File\n",
    "import os\n",
    "#Per la gestione dei file già esistenti\n",
    "from os.path import exists\n",
    "##########\n",
    "################################################################################\n",
    "# Config\n",
    "################################################################################\n",
    "learning_rate = 1e-2  # Learning rate\n",
    "epochs = 400  # Number of training epochs\n",
    "es_patience = 10  # Patience for early stopping\n",
    "batch_size = 32  # Batch size\n",
    "\n",
    "\n",
    "################################################################################\n",
    "# Load data\n",
    "################################################################################\n",
    "class MyDataset(Dataset):\n",
    "    \"\"\"\n",
    "    A dataset of random colored graphs.\n",
    "    The task is to classify each graph with the color which occurs the most in\n",
    "    its nodes.\n",
    "    The graphs have `n_colors` colors, of at least `n_min` and at most `n_max`\n",
    "    nodes connected with probability `p`.\n",
    "    \"\"\"\n",
    "\n",
    "    def __init__(self, n_samples, **kwargs):\n",
    "        self.n_samples = n_samples\n",
    "        super().__init__(**kwargs)\n",
    "\n",
    "    def read(self):\n",
    "        id_p_e = []\n",
    "        def make_graph():\n",
    "           \n",
    "            proteine_path = \"../Dati/proteine.csv\"\n",
    "            proteine = pd.read_csv(proteine_path, sep = ',')\n",
    "            for filename in os.listdir(\"../Dati/Grafi/\"):  \n",
    "                with open(os.path.join(\"../Dati/Grafi/\", filename), 'r', encoding='windows-1252') as f:\n",
    "                    id_p = filename[0:4]\n",
    "                    if (filename != \".DS_Store\") and (id_p not in id_p_e):\n",
    "                        id_p_e.append(id_p)\n",
    "                        data = np.load(\"../Dati/Grafi/{}.npz\".format(id_p), allow_pickle=True)\n",
    "                        \n",
    "                        #print(id_p, id_p_e)\n",
    "                        \n",
    "                        return Graph(x= data['x'], a= csr_matrix(data['a'].all()), e = None, y= data['y'])\n",
    "\n",
    "        # We must return a list of Graph objects\n",
    "        return [make_graph() for _ in range(self.n_samples)]"
   ]
  },
  {
   "cell_type": "code",
   "execution_count": 14,
   "id": "3ea4d5d4",
   "metadata": {},
   "outputs": [],
   "source": [
    "data = MyDataset(49, transforms=NormalizeAdj())"
   ]
  },
  {
   "cell_type": "code",
   "execution_count": 15,
   "id": "3b0c06f0",
   "metadata": {},
   "outputs": [
    {
     "data": {
      "text/plain": [
       "__main__.MyDataset"
      ]
     },
     "execution_count": 15,
     "metadata": {},
     "output_type": "execute_result"
    }
   ],
   "source": [
    "type(data)"
   ]
  },
  {
   "cell_type": "code",
   "execution_count": 17,
   "id": "53683bcb",
   "metadata": {},
   "outputs": [
    {
     "data": {
      "text/plain": [
       "MyDataset(n_graphs=49)"
      ]
     },
     "execution_count": 17,
     "metadata": {},
     "output_type": "execute_result"
    }
   ],
   "source": [
    "data"
   ]
  },
  {
   "cell_type": "code",
   "execution_count": 18,
   "id": "d95185f9",
   "metadata": {},
   "outputs": [
    {
     "data": {
      "text/plain": [
       "2"
      ]
     },
     "execution_count": 18,
     "metadata": {},
     "output_type": "execute_result"
    }
   ],
   "source": [
    "data.n_labels"
   ]
  },
  {
   "cell_type": "code",
   "execution_count": 19,
   "id": "b234395b",
   "metadata": {},
   "outputs": [
    {
     "name": "stdout",
     "output_type": "stream",
     "text": [
      "Graph(n_nodes=126, n_node_features=1, n_edge_features=None, n_labels=2) ['a' '2qrw']\n",
      "Graph(n_nodes=128, n_node_features=1, n_edge_features=None, n_labels=2) ['a' '1s56']\n",
      "Graph(n_nodes=135, n_node_features=1, n_edge_features=None, n_labels=2) ['a' '3vhb']\n",
      "Graph(n_nodes=123, n_node_features=1, n_edge_features=None, n_labels=2) ['a' '1s69']\n",
      "Graph(n_nodes=128, n_node_features=1, n_edge_features=None, n_labels=2) ['a' '2bkm']\n",
      "Graph(n_nodes=127, n_node_features=1, n_edge_features=None, n_labels=2) ['a' '1idr']\n",
      "Graph(n_nodes=135, n_node_features=1, n_edge_features=None, n_labels=2) ['a' '1vhb']\n",
      "Graph(n_nodes=137, n_node_features=1, n_edge_features=None, n_labels=2) ['a' '3lb2']\n",
      "Graph(n_nodes=154, n_node_features=1, n_edge_features=None, n_labels=2) ['a' '1ux9']\n",
      "Graph(n_nodes=128, n_node_features=1, n_edge_features=None, n_labels=2) ['a' '2gln']\n",
      "Graph(n_nodes=154, n_node_features=1, n_edge_features=None, n_labels=2) ['a' '1umo']\n",
      "Graph(n_nodes=119, n_node_features=1, n_edge_features=None, n_labels=2) ['a' '1ux8']\n",
      "Graph(n_nodes=158, n_node_features=1, n_edge_features=None, n_labels=2) ['a' '3ag0']\n",
      "Graph(n_nodes=116, n_node_features=1, n_edge_features=None, n_labels=2) ['a' '1dlw']\n",
      "Graph(n_nodes=131, n_node_features=1, n_edge_features=None, n_labels=2) ['a' '5v3u']\n",
      "Graph(n_nodes=172, n_node_features=1, n_edge_features=None, n_labels=2) ['a' '2dc3']\n",
      "Graph(n_nodes=126, n_node_features=1, n_edge_features=None, n_labels=2) ['a' '1ngk']\n",
      "Graph(n_nodes=127, n_node_features=1, n_edge_features=None, n_labels=2) ['a' '2gkm']\n",
      "Graph(n_nodes=130, n_node_features=1, n_edge_features=None, n_labels=2) ['a' '5v3t']\n",
      "Graph(n_nodes=123, n_node_features=1, n_edge_features=None, n_labels=2) ['a' '4l2m']\n",
      "Graph(n_nodes=130, n_node_features=1, n_edge_features=None, n_labels=2) ['a' '5v3v']\n",
      "Graph(n_nodes=123, n_node_features=1, n_edge_features=None, n_labels=2) ['a' '1rtx']\n",
      "Graph(n_nodes=127, n_node_features=1, n_edge_features=None, n_labels=2) ['a' '2gkn']\n",
      "Graph(n_nodes=146, n_node_features=1, n_edge_features=None, n_labels=2) ['a' '3tm9']\n",
      "Graph(n_nodes=123, n_node_features=1, n_edge_features=None, n_labels=2) ['a' '1mwb']\n",
      "Graph(n_nodes=123, n_node_features=1, n_edge_features=None, n_labels=2) ['a' '2bmm']\n",
      "Graph(n_nodes=123, n_node_features=1, n_edge_features=None, n_labels=2) ['a' '2ksc']\n",
      "Graph(n_nodes=137, n_node_features=1, n_edge_features=None, n_labels=2) ['a' '4hsw']\n",
      "Graph(n_nodes=154, n_node_features=1, n_edge_features=None, n_labels=2) ['a' '1ury']\n",
      "Graph(n_nodes=137, n_node_features=1, n_edge_features=None, n_labels=2) ['a' '2vhb']\n",
      "Graph(n_nodes=128, n_node_features=1, n_edge_features=None, n_labels=2) ['a' '1rte']\n",
      "Graph(n_nodes=144, n_node_features=1, n_edge_features=None, n_labels=2) ['a' '3tm3']\n",
      "Graph(n_nodes=123, n_node_features=1, n_edge_features=None, n_labels=2) ['a' '4max']\n",
      "Graph(n_nodes=154, n_node_features=1, n_edge_features=None, n_labels=2) ['a' '1urv']\n",
      "Graph(n_nodes=123, n_node_features=1, n_edge_features=None, n_labels=2) ['a' '2hz3']\n",
      "Graph(n_nodes=151, n_node_features=1, n_edge_features=None, n_labels=2) ['a' '1v5h']\n",
      "Graph(n_nodes=123, n_node_features=1, n_edge_features=None, n_labels=2) ['a' '2hz2']\n",
      "Graph(n_nodes=144, n_node_features=1, n_edge_features=None, n_labels=2) ['a' '3tld']\n",
      "Graph(n_nodes=123, n_node_features=1, n_edge_features=None, n_labels=2) ['a' '2hz1']\n",
      "Graph(n_nodes=146, n_node_features=1, n_edge_features=None, n_labels=2) ['a' '1ch4']\n",
      "Graph(n_nodes=121, n_node_features=1, n_edge_features=None, n_labels=2) ['a' '1dly']\n",
      "Graph(n_nodes=147, n_node_features=1, n_edge_features=None, n_labels=2) ['a' '1ash']\n",
      "Graph(n_nodes=128, n_node_features=1, n_edge_features=None, n_labels=2) ['a' '1s61']\n",
      "Graph(n_nodes=138, n_node_features=1, n_edge_features=None, n_labels=2) ['a' '4vhb']\n",
      "Graph(n_nodes=154, n_node_features=1, n_edge_features=None, n_labels=2) ['a' '1ut0']\n",
      "Graph(n_nodes=116, n_node_features=1, n_edge_features=None, n_labels=2) ['a' '1uvy']\n",
      "Graph(n_nodes=128, n_node_features=1, n_edge_features=None, n_labels=2) ['a' '2gl3']\n",
      "Graph(n_nodes=121, n_node_features=1, n_edge_features=None, n_labels=2) ['a' '1uvx']\n",
      "Graph(n_nodes=123, n_node_features=1, n_edge_features=None, n_labels=2) ['a' '1s6a']\n"
     ]
    }
   ],
   "source": [
    "for grafo in range(data.n_graphs):\n",
    "    print(data[grafo], data[grafo].y)"
   ]
  },
  {
   "cell_type": "code",
   "execution_count": null,
   "id": "0f18436f",
   "metadata": {},
   "outputs": [],
   "source": []
  }
 ],
 "metadata": {
  "kernelspec": {
   "display_name": "Python 3",
   "language": "python",
   "name": "python3"
  },
  "language_info": {
   "codemirror_mode": {
    "name": "ipython",
    "version": 3
   },
   "file_extension": ".py",
   "mimetype": "text/x-python",
   "name": "python",
   "nbconvert_exporter": "python",
   "pygments_lexer": "ipython3",
   "version": "3.8.8"
  }
 },
 "nbformat": 4,
 "nbformat_minor": 5
}
