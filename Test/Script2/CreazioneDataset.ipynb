{
 "cells": [
  {
   "cell_type": "code",
   "execution_count": 1,
   "id": "1fc9fbff",
   "metadata": {},
   "outputs": [],
   "source": [
    "#DataFrame\n",
    "import pandas as pd\n",
    "#Tensori\n",
    "import numpy as np\n",
    "from numpy import array\n",
    "#Matrice Sparsa\n",
    "from scipy.sparse import csr_matrix\n",
    "#GNN\n",
    "import spektral\n",
    "#Aprire i File\n",
    "import os\n",
    "#Per la gestione dei file già esistenti\n",
    "from os.path import exists"
   ]
  },
  {
   "cell_type": "markdown",
   "id": "bf714457",
   "metadata": {},
   "source": [
    "# Creazione del Dataset\n",
    "Nel seguente codice vi creano le componenti base dei grafi le quali sono:\n",
    "- **x**: array di tuple contenente nome dei nodi e feature del nodo;\n",
    "- **a**: matrice di confusione, salvata in formato sparso;\n",
    "- **y**: la feature del grafo, nel nostro caso la classe."
   ]
  },
  {
   "cell_type": "code",
   "execution_count": 11,
   "id": "9dd35c1d",
   "metadata": {},
   "outputs": [],
   "source": [
    "proteine_path = \"../Dati/proteine.csv\"\n",
    "proteine = pd.read_csv(proteine_path, sep = ',')\n",
    "\n",
    "for filename in os.listdir(\"../../R/Rdati/Matrici Adiacenza/\"):\n",
    "    with open(os.path.join(\"../../R/Rdati/Matrici Adiacenza/\", filename), 'r', encoding='windows-1252') as f:\n",
    "        if (filename != \".DS_Store\"):\n",
    "            id_p = filename[0:4]\n",
    "            #print(id_p)\n",
    "\n",
    "            #Id della proteina che si sta analizzando\n",
    "            #print(id_p)\n",
    "\n",
    "            if not exists(\"../Dati/Grafi/{}.npz\".format(id_p)): \n",
    "                matrix = \"../../R/Rdati/Matrici Adiacenza/{}.csv\".format(id_p)\n",
    "                #print(matrix)\n",
    "\n",
    "                #Matrice adiacenza singola matrice inserita in un dataframe\n",
    "                proteina = pd.read_csv(matrix, sep = ';')\n",
    "                #Nomi dei nodi nonché numero\n",
    "                Nodes = list(proteina.columns[1:])\n",
    "                #Lista degli Amino acidi\n",
    "                Amino = list(proteina.iloc[0][1:])\n",
    "                proteina.drop(proteina.columns[[0]], axis = 1, inplace = True)\n",
    "                proteina.drop([0], axis = 0, inplace = True)\n",
    "                #Classe della proteina\n",
    "                classe = proteine[proteine['Id'] == id_p][\"Classe\"].iloc[0][0]\n",
    "\n",
    "                #Creazione del array.numpy che conterrà le Feature dei nodi. Che nel nostro caso sono gli aminoacidi\n",
    "                x = array(Amino).reshape(len(Amino),1)\n",
    "\n",
    "                #Conversione dei valori del dataframe da str a int\n",
    "                proteina = proteina.applymap(int)\n",
    "\n",
    "                #Matrice d'adiacenza sparsa\n",
    "                A = csr_matrix(proteina.values)\n",
    "\n",
    "                np.savez(\"../Dati/Grafi/{}.npz\".format(id_p),  x= x, a = A, y = classe)\n",
    "                "
   ]
  },
  {
   "cell_type": "code",
   "execution_count": null,
   "id": "b91f63b8",
   "metadata": {},
   "outputs": [],
   "source": []
  }
 ],
 "metadata": {
  "kernelspec": {
   "display_name": "Python 3",
   "language": "python",
   "name": "python3"
  },
  "language_info": {
   "codemirror_mode": {
    "name": "ipython",
    "version": 3
   },
   "file_extension": ".py",
   "mimetype": "text/x-python",
   "name": "python",
   "nbconvert_exporter": "python",
   "pygments_lexer": "ipython3",
   "version": "3.8.8"
  }
 },
 "nbformat": 4,
 "nbformat_minor": 5
}
