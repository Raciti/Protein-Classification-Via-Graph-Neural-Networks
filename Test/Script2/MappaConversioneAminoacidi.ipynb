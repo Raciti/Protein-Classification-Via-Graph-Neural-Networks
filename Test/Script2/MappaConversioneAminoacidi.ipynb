{
 "cells": [
  {
   "cell_type": "code",
   "execution_count": 1,
   "id": "b724b5e8",
   "metadata": {},
   "outputs": [],
   "source": [
    "#DataFrame\n",
    "import pandas as pd\n",
    "\n",
    "#Rimozione duplicati lista\n",
    "from collections import OrderedDict\n",
    "\n",
    "#Aprire i File\n",
    "import os\n",
    "#Per la gestione dei file già esistenti\n",
    "from os.path import exists\n",
    "\n",
    "#Salvataggio dizinario\n",
    "import pickle "
   ]
  },
  {
   "cell_type": "code",
   "execution_count": 2,
   "id": "715662e4",
   "metadata": {},
   "outputs": [],
   "source": [
    "proteine_path = \"../Dati/proteine.csv\"\n",
    "proteine = pd.read_csv(proteine_path, sep = ',')\n",
    "\n",
    "Amino = []\n",
    "\n",
    "for filename in os.listdir(\"../../R/Rdati/Matrici Adiacenza/\"):\n",
    "    with open(os.path.join(\"../../R/Rdati/Matrici Adiacenza/\", filename), 'r', encoding='windows-1252') as f:\n",
    "        if (filename != \".DS_Store\"):\n",
    "            id_p = filename[0:4]\n",
    "            #print(id_p)\n",
    "            matrix = \"../../R/Rdati/Matrici Adiacenza/{}.csv\".format(id_p)            \n",
    "            #Matrice adiacenza singola matrice inserita in un dataframe    \n",
    "            proteina = pd.read_csv(matrix, sep = ';')\n",
    "            Amino.extend(list(proteina.iloc[0][1:]))\n",
    "            #print(Amino)"
   ]
  },
  {
   "cell_type": "code",
   "execution_count": 19,
   "id": "36b80ac3",
   "metadata": {},
   "outputs": [
    {
     "name": "stdout",
     "output_type": "stream",
     "text": [
      "6535\n"
     ]
    }
   ],
   "source": [
    "print(len(Amino))\n",
    "Amino_TOT = list(OrderedDict.fromkeys(Amino))"
   ]
  },
  {
   "cell_type": "code",
   "execution_count": 20,
   "id": "717bcc20",
   "metadata": {},
   "outputs": [
    {
     "name": "stdout",
     "output_type": "stream",
     "text": [
      "20\n",
      "['MET', 'LEU', 'ASP', 'GLN', 'THR', 'ILE', 'ASN', 'LYS', 'ALA', 'VAL', 'PRO', 'GLU', 'HIS', 'GLY', 'PHE', 'TYR', 'ARG', 'CYS', 'TRP', 'SER']\n"
     ]
    }
   ],
   "source": [
    "print(len(Amino_TOT))\n",
    "print(Amino_TOT)"
   ]
  },
  {
   "cell_type": "code",
   "execution_count": 21,
   "id": "cc9d0494",
   "metadata": {},
   "outputs": [],
   "source": [
    "classes = ['a', 'b', 'c', 'd', 'e', 'f', 'g', 'h', 'i', 'j', 'k', 'l']"
   ]
  },
  {
   "cell_type": "code",
   "execution_count": 14,
   "id": "e74c2146",
   "metadata": {},
   "outputs": [],
   "source": [
    "if not exists(\"../Dati/aminoacidi.pickle\"):\n",
    "    aminoAcidi = {}\n",
    "    i = 0\n",
    "    for name in Amino_TOT:\n",
    "        aminoAcidi[name] = i\n",
    "        i+= 1\n",
    "    f = open(\"../Dati/aminoacidi.pickle\",\"wb\")\n",
    "    pickle.dump(aminoAcidi, f)\n",
    "    f.close()"
   ]
  },
  {
   "cell_type": "code",
   "execution_count": 15,
   "id": "7cd44d0a",
   "metadata": {},
   "outputs": [],
   "source": [
    "if not exists(\"../Dati/classi.pickle\"):\n",
    "    classi = {}\n",
    "    i = 0\n",
    "    for classe in classes:\n",
    "        classi[classe] = i\n",
    "        i += 1\n",
    "    f = open(\"../Dati/classi.pickle\",\"wb\")\n",
    "    pickle.dump(classi, f)\n",
    "    f.close()"
   ]
  },
  {
   "cell_type": "code",
   "execution_count": 16,
   "id": "869e4dd3",
   "metadata": {},
   "outputs": [],
   "source": [
    "f = open(\"../Dati/classi.pickle\",\"rb\")\n",
    "classi_read = pickle.load(f)\n",
    "f.close()"
   ]
  },
  {
   "cell_type": "code",
   "execution_count": 17,
   "id": "dea9a009",
   "metadata": {},
   "outputs": [],
   "source": [
    "f1 = open(\"../Dati/aminoacidi.pickle\",\"rb\")\n",
    "aminoAcidi_read = pickle.load(f1)\n",
    "f.close()"
   ]
  },
  {
   "cell_type": "code",
   "execution_count": 18,
   "id": "b2449974",
   "metadata": {},
   "outputs": [
    {
     "name": "stdout",
     "output_type": "stream",
     "text": [
      "{'MET': 0, 'LEU': 1, 'ASP': 2, 'GLN': 3, 'THR': 4, 'ILE': 5, 'ASN': 6, 'LYS': 7, 'ALA': 8, 'VAL': 9, 'PRO': 10, 'GLU': 11, 'HIS': 12, 'GLY': 13, 'PHE': 14, 'TYR': 15, 'ARG': 16, 'CYS': 17, 'TRP': 18, 'SER': 19}\n",
      "{'a': 0, 'b': 1, 'c': 2, 'd': 3, 'e': 4, 'f': 5, 'g': 6, 'h': 7, 'i': 8, 'j': 9, 'k': 10, 'l': 11}\n"
     ]
    }
   ],
   "source": [
    "print(aminoAcidi_read)\n",
    "print(classi_read)"
   ]
  },
  {
   "cell_type": "code",
   "execution_count": null,
   "id": "17ad99ad",
   "metadata": {},
   "outputs": [],
   "source": []
  }
 ],
 "metadata": {
  "kernelspec": {
   "display_name": "Python 3",
   "language": "python",
   "name": "python3"
  },
  "language_info": {
   "codemirror_mode": {
    "name": "ipython",
    "version": 3
   },
   "file_extension": ".py",
   "mimetype": "text/x-python",
   "name": "python",
   "nbconvert_exporter": "python",
   "pygments_lexer": "ipython3",
   "version": "3.8.8"
  }
 },
 "nbformat": 4,
 "nbformat_minor": 5
}
