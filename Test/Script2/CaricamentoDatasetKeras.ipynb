{
 "cells": [
  {
   "cell_type": "code",
   "execution_count": 1,
   "id": "9133e28f",
   "metadata": {},
   "outputs": [],
   "source": [
    "import numpy as np\n",
    "from tensorflow.keras.models import Model\n",
    "\n",
    "from spektral.data import Dataset,Graph\n",
    "from spektral.transforms.normalize_adj import NormalizeAdj\n",
    "\n",
    "##########\n",
    "#DataFrame\n",
    "import pandas as pd\n",
    "from numpy import array\n",
    "#Matrice Sparsa\n",
    "from scipy.sparse import csr_matrix\n",
    "#Aprire i File\n",
    "import os\n",
    "#Per la gestione dei file già esistenti\n",
    "from os.path import exists\n",
    "##########\n",
    "#######################\n",
    "# Load data\n",
    "################################################################################\n",
    "class MyDataset(Dataset):\n",
    "    \n",
    "    def __init__(self, n_samples, **kwargs):\n",
    "        self.n_samples = n_samples\n",
    "        super().__init__(**kwargs)\n",
    "\n",
    "    def read(self):\n",
    "        id_p_e = []\n",
    "        def make_graph():\n",
    "           \n",
    "            proteine_path = \"../Dati/proteine.csv\"\n",
    "            proteine = pd.read_csv(proteine_path, sep = ',')\n",
    "            for filename in os.listdir(\"../Dati/Grafi/\"):  \n",
    "                with open(os.path.join(\"../Dati/Grafi/\", filename), 'r', encoding='windows-1252') as f:\n",
    "                    id_p = filename[0:4]\n",
    "                    if (filename != \".DS_Store\") and (id_p not in id_p_e):\n",
    "                        id_p_e.append(id_p)\n",
    "                        data = np.load(\"../Dati/Grafi/{}.npz\".format(id_p), allow_pickle=True)\n",
    "                        \n",
    "                        #print(id_p, id_p_e)\n",
    "                        \n",
    "                        return Graph(x= data['x'], a= csr_matrix(data['a'].all()), e = None, y= data['y'])\n",
    "\n",
    "        # We must return a list of Graph objects\n",
    "        return [make_graph() for _ in range(self.n_samples)]"
   ]
  },
  {
   "cell_type": "code",
   "execution_count": 2,
   "id": "49fdd21b",
   "metadata": {},
   "outputs": [],
   "source": [
    "data = MyDataset(5, transforms=NormalizeAdj())"
   ]
  },
  {
   "cell_type": "code",
   "execution_count": 3,
   "id": "24c89f56",
   "metadata": {},
   "outputs": [
    {
     "data": {
      "text/plain": [
       "__main__.MyDataset"
      ]
     },
     "execution_count": 3,
     "metadata": {},
     "output_type": "execute_result"
    }
   ],
   "source": [
    "type(data)"
   ]
  },
  {
   "cell_type": "code",
   "execution_count": 4,
   "id": "3d97a119",
   "metadata": {},
   "outputs": [
    {
     "data": {
      "text/plain": [
       "MyDataset(n_graphs=5)"
      ]
     },
     "execution_count": 4,
     "metadata": {},
     "output_type": "execute_result"
    }
   ],
   "source": [
    "data"
   ]
  },
  {
   "cell_type": "code",
   "execution_count": 5,
   "id": "3b074f21",
   "metadata": {},
   "outputs": [
    {
     "data": {
      "text/plain": [
       "1"
      ]
     },
     "execution_count": 5,
     "metadata": {},
     "output_type": "execute_result"
    }
   ],
   "source": [
    "data.n_node_features"
   ]
  },
  {
   "cell_type": "code",
   "execution_count": 6,
   "id": "78dc002a",
   "metadata": {},
   "outputs": [
    {
     "name": "stdout",
     "output_type": "stream",
     "text": [
      "Graph(n_nodes=126, n_node_features=1, n_edge_features=None, n_labels=1) Classe ->  a\n",
      "Graph(n_nodes=128, n_node_features=1, n_edge_features=None, n_labels=1) Classe ->  a\n",
      "Graph(n_nodes=135, n_node_features=1, n_edge_features=None, n_labels=1) Classe ->  a\n",
      "Graph(n_nodes=123, n_node_features=1, n_edge_features=None, n_labels=1) Classe ->  a\n",
      "Graph(n_nodes=128, n_node_features=1, n_edge_features=None, n_labels=1) Classe ->  a\n"
     ]
    }
   ],
   "source": [
    "for grafo in range(data.n_graphs):\n",
    "    print(data[grafo], \"Classe -> \",data[grafo].y)"
   ]
  },
  {
   "cell_type": "code",
   "execution_count": null,
   "id": "507dac68",
   "metadata": {},
   "outputs": [],
   "source": []
  }
 ],
 "metadata": {
  "kernelspec": {
   "display_name": "Python 3",
   "language": "python",
   "name": "python3"
  },
  "language_info": {
   "codemirror_mode": {
    "name": "ipython",
    "version": 3
   },
   "file_extension": ".py",
   "mimetype": "text/x-python",
   "name": "python",
   "nbconvert_exporter": "python",
   "pygments_lexer": "ipython3",
   "version": "3.8.8"
  }
 },
 "nbformat": 4,
 "nbformat_minor": 5
}
